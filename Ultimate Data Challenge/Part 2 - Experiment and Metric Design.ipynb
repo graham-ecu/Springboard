{
 "cells": [
  {
   "cell_type": "markdown",
   "id": "08efa563",
   "metadata": {},
   "source": [
    "# Part 2 - Experiment Design"
   ]
  },
  {
   "cell_type": "markdown",
   "id": "b5165b26",
   "metadata": {},
   "source": [
    "The neighboring cities of Gotham and Metropolis have complementary circadian rhythms: on\n",
    "weekdays, Ultimate Gotham is most active at night, and Ultimate Metropolis is most active\n",
    "during the day. On weekends, there is reasonable activity in both cities.\n",
    "\n",
    "However, a toll bridge, with a two way toll, between the two cities causes driver partners to tend\n",
    "to be exclusive to each city. The Ultimate managers of city operations for the two cities have\n",
    "proposed an experiment to encourage driver partners to be available in both cities, by\n",
    "reimbursing all toll costs."
   ]
  },
  {
   "cell_type": "markdown",
   "id": "cdbb86b5",
   "metadata": {},
   "source": [
    "### 1) What would you choose as the key measure of success of this experiment in encouraging driver partners to serve both cities, and why would you choose this metric?"
   ]
  },
  {
   "cell_type": "markdown",
   "id": "9e423b2d",
   "metadata": {},
   "source": [
    "The key measure of success should be the proportion of drives spent in each city.  This could be determined by tracking the beginning and ending point of each drive.  This metric would allow you to see if drivers primarily work in one city rather than the other, or if they are driving in both cities depending on the demand for their services."
   ]
  },
  {
   "cell_type": "markdown",
   "id": "c43af184",
   "metadata": {},
   "source": [
    "### 2) Describe a practical experiment you would design to compare the effectiveness of the proposed change in relation to the key measure of success. Please provide details on:\n",
    "\n",
    "a) how you will implement the experiment\n",
    "\n",
    "I will use data from before and after reimbursing tolls to see if it is effective.  This would allow for a before and after comparison, all other things assumed to be equal.  The variable that will be compared will be the drive proportion in each city.  The current situation is that drivers are exclusive to one city, meaning 100% (or close to it) of drivers begin and end all of their drives in the same city.  After the change is made, the same data can be collected to see if drivers continue to be exclusive to one city or if their proportions shift so that their drives/time is split more equally between the two cities.\n",
    "\n",
    "\n",
    "b) what statistical test(s) you will conduct to verify the significance of the\n",
    "   observation\n",
    "   \n",
    "The statistical test I would use is a one-sided z-test.  I would need to calculate the mean drive proportion and standard deviation for all drivers in each city and to establish a confidence interval for the mean.  After the tolls begin to be reimbursed more data can be collected and the new mean can be calculated.  Since it is assumed that the current proportion is 1:0 (100% in one city and 0% in the other) a one sided test is appropriate.  The one-sided test can be used to determine if a significant change has occured.\n",
    "\n",
    "**Null Hypothesis:** Reimbursing the toll has no effect on the average drive proportion.\n",
    "\n",
    "**Aternative Hypothesis:** Reimbursing the tolls has an effect on the average drive proportion.  \n",
    "\n",
    "\n",
    "c) how you would interpret the results and provide recommendations to the city\n",
    "   operations team along with any caveats.\n",
    "   \n",
    "If the p-value associated with the new mean is significant, the null hypothesis could be rejected, which means that it is very likely that reimbursing the tolls has an effect on the drive proportion.  Since the current situation is that drivers are exclusive to one city or the other, this would mean that it is very likely that reimbursing the toll resulted in drivers being more available in both cities, which was the original goal for Ultimate Technologies Inc.\n",
    "\n",
    "**Caveats:**\n",
    "Even if reimbursing the tolls results in drivers being more available in both cities, the next step would be to look at the cost/benefit ratio.  If the cost of reimbursing tolls is too great to justify the benefit of having more available drivers on average, Ultimate Technologies Inc. may want to consider other options.  Things to consider when making this decision could be:\n",
    "1) How much money is Ultimate losing each day from each city when there are not enough drivers in that city?  \n",
    "2) On average, how much is Ultimate paying in tolls each day?  \n",
    "3) Are drivers driving back and forth multiple times each day, or only at the time when one city increases demand and the other decreases demand?  \n",
    "4) How long is the trip between the two cities? What is the combined cost of the time spent driving between cities and the toll?\n",
    "\n",
    "The ideal situation would be a 50/50 split between the two cities.  Since the two cities operate on different cycles, a driver who only works during the day may only need to support business in one city.  A driver who works only at night may only need to support business in the other.  For these individual drivers reimbursing the toll may not impact their drive proportion since they are working in the busier of the two cities during their shift.  However, a driver who begins work in the afternoon and ends work at night may be affected since midway through their shift one city's demand drops and the other city's demand increases.  Since I will be looking at the average drive proportion, both situations will be included.  Therefore, it is important to understand that even if the average driver ends up spending 70% of their time in one city, that could be viewed as a significant change, depending on the data and when drivers choose to drive."
   ]
  }
 ],
 "metadata": {
  "kernelspec": {
   "display_name": "Python 3",
   "language": "python",
   "name": "python3"
  },
  "language_info": {
   "codemirror_mode": {
    "name": "ipython",
    "version": 3
   },
   "file_extension": ".py",
   "mimetype": "text/x-python",
   "name": "python",
   "nbconvert_exporter": "python",
   "pygments_lexer": "ipython3",
   "version": "3.8.8"
  }
 },
 "nbformat": 4,
 "nbformat_minor": 5
}
