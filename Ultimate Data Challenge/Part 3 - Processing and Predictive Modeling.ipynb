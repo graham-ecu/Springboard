{
 "cells": [
  {
   "cell_type": "markdown",
   "id": "7ae96812",
   "metadata": {},
   "source": [
    "# Data Processing and Predictive Modeling\n",
    "\n",
    "In this notebook data will be processed for use in predictive models.  Two models will be trained and tested to determine which model has the best performance.  The models will be used to determine the key features that affect user retention."
   ]
  },
  {
   "cell_type": "code",
   "execution_count": 1,
   "id": "c570142a",
   "metadata": {},
   "outputs": [],
   "source": [
    "import pandas as pd\n",
    "import numpy as np\n",
    "import seaborn as sns\n",
    "import matplotlib.pyplot as plt\n",
    "\n",
    "from sklearn.preprocessing import StandardScaler\n",
    "from sklearn.model_selection import train_test_split\n",
    "from sklearn.metrics import r2_score\n",
    "from sklearn.metrics import mean_squared_error\n",
    "from sklearn.linear_model import Ridge\n",
    "from sklearn.linear_model import Lasso\n",
    "from sklearn.model_selection import cross_validate\n",
    "from sklearn.neighbors import KNeighborsRegressor\n",
    "from sklearn.ensemble import RandomForestRegressor"
   ]
  },
  {
   "cell_type": "code",
   "execution_count": 2,
   "id": "7fa77a02",
   "metadata": {},
   "outputs": [
    {
     "data": {
      "text/html": [
       "<div>\n",
       "<style scoped>\n",
       "    .dataframe tbody tr th:only-of-type {\n",
       "        vertical-align: middle;\n",
       "    }\n",
       "\n",
       "    .dataframe tbody tr th {\n",
       "        vertical-align: top;\n",
       "    }\n",
       "\n",
       "    .dataframe thead th {\n",
       "        text-align: right;\n",
       "    }\n",
       "</style>\n",
       "<table border=\"1\" class=\"dataframe\">\n",
       "  <thead>\n",
       "    <tr style=\"text-align: right;\">\n",
       "      <th></th>\n",
       "      <th>city</th>\n",
       "      <th>trips_in_first_30_days</th>\n",
       "      <th>signup_date</th>\n",
       "      <th>avg_rating_of_driver</th>\n",
       "      <th>avg_surge</th>\n",
       "      <th>last_trip_date</th>\n",
       "      <th>phone</th>\n",
       "      <th>surge_pct</th>\n",
       "      <th>ultimate_black_user</th>\n",
       "      <th>weekday_pct</th>\n",
       "      <th>avg_dist</th>\n",
       "      <th>avg_rating_by_driver</th>\n",
       "      <th>retained</th>\n",
       "    </tr>\n",
       "  </thead>\n",
       "  <tbody>\n",
       "    <tr>\n",
       "      <th>0</th>\n",
       "      <td>King's Landing</td>\n",
       "      <td>4</td>\n",
       "      <td>2014-01-25</td>\n",
       "      <td>4.7</td>\n",
       "      <td>1.10</td>\n",
       "      <td>2014-06-17</td>\n",
       "      <td>iPhone</td>\n",
       "      <td>15.4</td>\n",
       "      <td>True</td>\n",
       "      <td>46.2</td>\n",
       "      <td>3.67</td>\n",
       "      <td>5.0</td>\n",
       "      <td>1</td>\n",
       "    </tr>\n",
       "    <tr>\n",
       "      <th>1</th>\n",
       "      <td>Astapor</td>\n",
       "      <td>0</td>\n",
       "      <td>2014-01-29</td>\n",
       "      <td>5.0</td>\n",
       "      <td>1.00</td>\n",
       "      <td>2014-05-05</td>\n",
       "      <td>Android</td>\n",
       "      <td>0.0</td>\n",
       "      <td>False</td>\n",
       "      <td>50.0</td>\n",
       "      <td>8.26</td>\n",
       "      <td>5.0</td>\n",
       "      <td>0</td>\n",
       "    </tr>\n",
       "    <tr>\n",
       "      <th>2</th>\n",
       "      <td>Astapor</td>\n",
       "      <td>3</td>\n",
       "      <td>2014-01-06</td>\n",
       "      <td>4.3</td>\n",
       "      <td>1.00</td>\n",
       "      <td>2014-01-07</td>\n",
       "      <td>iPhone</td>\n",
       "      <td>0.0</td>\n",
       "      <td>False</td>\n",
       "      <td>100.0</td>\n",
       "      <td>0.77</td>\n",
       "      <td>5.0</td>\n",
       "      <td>0</td>\n",
       "    </tr>\n",
       "    <tr>\n",
       "      <th>3</th>\n",
       "      <td>King's Landing</td>\n",
       "      <td>9</td>\n",
       "      <td>2014-01-10</td>\n",
       "      <td>4.6</td>\n",
       "      <td>1.14</td>\n",
       "      <td>2014-06-29</td>\n",
       "      <td>iPhone</td>\n",
       "      <td>20.0</td>\n",
       "      <td>True</td>\n",
       "      <td>80.0</td>\n",
       "      <td>2.36</td>\n",
       "      <td>4.9</td>\n",
       "      <td>1</td>\n",
       "    </tr>\n",
       "    <tr>\n",
       "      <th>4</th>\n",
       "      <td>Winterfell</td>\n",
       "      <td>14</td>\n",
       "      <td>2014-01-27</td>\n",
       "      <td>4.4</td>\n",
       "      <td>1.19</td>\n",
       "      <td>2014-03-15</td>\n",
       "      <td>Android</td>\n",
       "      <td>11.8</td>\n",
       "      <td>False</td>\n",
       "      <td>82.4</td>\n",
       "      <td>3.13</td>\n",
       "      <td>4.9</td>\n",
       "      <td>0</td>\n",
       "    </tr>\n",
       "  </tbody>\n",
       "</table>\n",
       "</div>"
      ],
      "text/plain": [
       "             city  trips_in_first_30_days signup_date  avg_rating_of_driver  \\\n",
       "0  King's Landing                       4  2014-01-25                   4.7   \n",
       "1         Astapor                       0  2014-01-29                   5.0   \n",
       "2         Astapor                       3  2014-01-06                   4.3   \n",
       "3  King's Landing                       9  2014-01-10                   4.6   \n",
       "4      Winterfell                      14  2014-01-27                   4.4   \n",
       "\n",
       "   avg_surge last_trip_date    phone  surge_pct  ultimate_black_user  \\\n",
       "0       1.10     2014-06-17   iPhone       15.4                 True   \n",
       "1       1.00     2014-05-05  Android        0.0                False   \n",
       "2       1.00     2014-01-07   iPhone        0.0                False   \n",
       "3       1.14     2014-06-29   iPhone       20.0                 True   \n",
       "4       1.19     2014-03-15  Android       11.8                False   \n",
       "\n",
       "   weekday_pct  avg_dist  avg_rating_by_driver  retained  \n",
       "0         46.2      3.67                   5.0         1  \n",
       "1         50.0      8.26                   5.0         0  \n",
       "2        100.0      0.77                   5.0         0  \n",
       "3         80.0      2.36                   4.9         1  \n",
       "4         82.4      3.13                   4.9         0  "
      ]
     },
     "execution_count": 2,
     "metadata": {},
     "output_type": "execute_result"
    }
   ],
   "source": [
    "# Load data\n",
    "df = pd.read_csv('clean_data', index_col=0)\n",
    "df.head()"
   ]
  },
  {
   "cell_type": "markdown",
   "id": "4f4197cb",
   "metadata": {},
   "source": [
    "The signup date and last trip date are not important and can be dropped.  The signup date is relatively the same for all users in this dataset (all signed up in January 2014).  The last trip date was used to determine whether a customer was retained or not so this information is now represented in a different way."
   ]
  },
  {
   "cell_type": "code",
   "execution_count": 3,
   "id": "86a67046",
   "metadata": {},
   "outputs": [],
   "source": [
    "# Drop the last_trip_date and signup_date columns\n",
    "df.drop(['last_trip_date', 'signup_date'], axis=1, inplace=True)"
   ]
  },
  {
   "cell_type": "code",
   "execution_count": 4,
   "id": "2ce7f2f8",
   "metadata": {},
   "outputs": [
    {
     "data": {
      "text/plain": [
       "city                       object\n",
       "trips_in_first_30_days      int64\n",
       "avg_rating_of_driver      float64\n",
       "avg_surge                 float64\n",
       "phone                      object\n",
       "surge_pct                 float64\n",
       "ultimate_black_user          bool\n",
       "weekday_pct               float64\n",
       "avg_dist                  float64\n",
       "avg_rating_by_driver      float64\n",
       "retained                    int64\n",
       "dtype: object"
      ]
     },
     "execution_count": 4,
     "metadata": {},
     "output_type": "execute_result"
    }
   ],
   "source": [
    "# Look at dtypes\n",
    "df.dtypes"
   ]
  },
  {
   "cell_type": "code",
   "execution_count": 5,
   "id": "ff901bd0",
   "metadata": {},
   "outputs": [
    {
     "data": {
      "text/html": [
       "<div>\n",
       "<style scoped>\n",
       "    .dataframe tbody tr th:only-of-type {\n",
       "        vertical-align: middle;\n",
       "    }\n",
       "\n",
       "    .dataframe tbody tr th {\n",
       "        vertical-align: top;\n",
       "    }\n",
       "\n",
       "    .dataframe thead th {\n",
       "        text-align: right;\n",
       "    }\n",
       "</style>\n",
       "<table border=\"1\" class=\"dataframe\">\n",
       "  <thead>\n",
       "    <tr style=\"text-align: right;\">\n",
       "      <th></th>\n",
       "      <th>trips_in_first_30_days</th>\n",
       "      <th>avg_rating_of_driver</th>\n",
       "      <th>avg_surge</th>\n",
       "      <th>surge_pct</th>\n",
       "      <th>weekday_pct</th>\n",
       "      <th>avg_dist</th>\n",
       "      <th>avg_rating_by_driver</th>\n",
       "      <th>retained</th>\n",
       "      <th>city_Astapor</th>\n",
       "      <th>city_King's Landing</th>\n",
       "      <th>city_Winterfell</th>\n",
       "      <th>phone_Android</th>\n",
       "      <th>phone_iPhone</th>\n",
       "      <th>ultimate_black_user_False</th>\n",
       "      <th>ultimate_black_user_True</th>\n",
       "    </tr>\n",
       "  </thead>\n",
       "  <tbody>\n",
       "    <tr>\n",
       "      <th>0</th>\n",
       "      <td>4</td>\n",
       "      <td>4.7</td>\n",
       "      <td>1.10</td>\n",
       "      <td>15.4</td>\n",
       "      <td>46.2</td>\n",
       "      <td>3.67</td>\n",
       "      <td>5.0</td>\n",
       "      <td>1</td>\n",
       "      <td>0</td>\n",
       "      <td>1</td>\n",
       "      <td>0</td>\n",
       "      <td>0</td>\n",
       "      <td>1</td>\n",
       "      <td>0</td>\n",
       "      <td>1</td>\n",
       "    </tr>\n",
       "    <tr>\n",
       "      <th>1</th>\n",
       "      <td>0</td>\n",
       "      <td>5.0</td>\n",
       "      <td>1.00</td>\n",
       "      <td>0.0</td>\n",
       "      <td>50.0</td>\n",
       "      <td>8.26</td>\n",
       "      <td>5.0</td>\n",
       "      <td>0</td>\n",
       "      <td>1</td>\n",
       "      <td>0</td>\n",
       "      <td>0</td>\n",
       "      <td>1</td>\n",
       "      <td>0</td>\n",
       "      <td>1</td>\n",
       "      <td>0</td>\n",
       "    </tr>\n",
       "    <tr>\n",
       "      <th>2</th>\n",
       "      <td>3</td>\n",
       "      <td>4.3</td>\n",
       "      <td>1.00</td>\n",
       "      <td>0.0</td>\n",
       "      <td>100.0</td>\n",
       "      <td>0.77</td>\n",
       "      <td>5.0</td>\n",
       "      <td>0</td>\n",
       "      <td>1</td>\n",
       "      <td>0</td>\n",
       "      <td>0</td>\n",
       "      <td>0</td>\n",
       "      <td>1</td>\n",
       "      <td>1</td>\n",
       "      <td>0</td>\n",
       "    </tr>\n",
       "    <tr>\n",
       "      <th>3</th>\n",
       "      <td>9</td>\n",
       "      <td>4.6</td>\n",
       "      <td>1.14</td>\n",
       "      <td>20.0</td>\n",
       "      <td>80.0</td>\n",
       "      <td>2.36</td>\n",
       "      <td>4.9</td>\n",
       "      <td>1</td>\n",
       "      <td>0</td>\n",
       "      <td>1</td>\n",
       "      <td>0</td>\n",
       "      <td>0</td>\n",
       "      <td>1</td>\n",
       "      <td>0</td>\n",
       "      <td>1</td>\n",
       "    </tr>\n",
       "    <tr>\n",
       "      <th>4</th>\n",
       "      <td>14</td>\n",
       "      <td>4.4</td>\n",
       "      <td>1.19</td>\n",
       "      <td>11.8</td>\n",
       "      <td>82.4</td>\n",
       "      <td>3.13</td>\n",
       "      <td>4.9</td>\n",
       "      <td>0</td>\n",
       "      <td>0</td>\n",
       "      <td>0</td>\n",
       "      <td>1</td>\n",
       "      <td>1</td>\n",
       "      <td>0</td>\n",
       "      <td>1</td>\n",
       "      <td>0</td>\n",
       "    </tr>\n",
       "  </tbody>\n",
       "</table>\n",
       "</div>"
      ],
      "text/plain": [
       "   trips_in_first_30_days  avg_rating_of_driver  avg_surge  surge_pct  \\\n",
       "0                       4                   4.7       1.10       15.4   \n",
       "1                       0                   5.0       1.00        0.0   \n",
       "2                       3                   4.3       1.00        0.0   \n",
       "3                       9                   4.6       1.14       20.0   \n",
       "4                      14                   4.4       1.19       11.8   \n",
       "\n",
       "   weekday_pct  avg_dist  avg_rating_by_driver  retained  city_Astapor  \\\n",
       "0         46.2      3.67                   5.0         1             0   \n",
       "1         50.0      8.26                   5.0         0             1   \n",
       "2        100.0      0.77                   5.0         0             1   \n",
       "3         80.0      2.36                   4.9         1             0   \n",
       "4         82.4      3.13                   4.9         0             0   \n",
       "\n",
       "   city_King's Landing  city_Winterfell  phone_Android  phone_iPhone  \\\n",
       "0                    1                0              0             1   \n",
       "1                    0                0              1             0   \n",
       "2                    0                0              0             1   \n",
       "3                    1                0              0             1   \n",
       "4                    0                1              1             0   \n",
       "\n",
       "   ultimate_black_user_False  ultimate_black_user_True  \n",
       "0                          0                         1  \n",
       "1                          1                         0  \n",
       "2                          1                         0  \n",
       "3                          0                         1  \n",
       "4                          1                         0  "
      ]
     },
     "execution_count": 5,
     "metadata": {},
     "output_type": "execute_result"
    }
   ],
   "source": [
    "# One-hot encode the categorical features\n",
    "df = pd.get_dummies(df, columns=['city', 'phone', 'ultimate_black_user'])\n",
    "df.head()"
   ]
  },
  {
   "cell_type": "markdown",
   "id": "be4e0427",
   "metadata": {},
   "source": [
    "# Train Test Split"
   ]
  },
  {
   "cell_type": "code",
   "execution_count": 6,
   "id": "6b159ab4",
   "metadata": {},
   "outputs": [
    {
     "name": "stdout",
     "output_type": "stream",
     "text": [
      "(35760, 14) (11920, 14) (35760,) (11920,)\n"
     ]
    }
   ],
   "source": [
    "# Create train/test split.  X will be all data except retained (what will be predicted). Y will be retained.\n",
    "X = df.drop(columns='retained', axis=1)\n",
    "y = df['retained']\n",
    "\n",
    "X_train, X_test, y_train, y_test = train_test_split(X, y, test_size=0.25, random_state=10)\n",
    "print(X_train.shape, X_test.shape, y_train.shape, y_test.shape)"
   ]
  },
  {
   "cell_type": "markdown",
   "id": "94b3ad58",
   "metadata": {},
   "source": [
    "# Modeling\n",
    "\n",
    "Two models will be created to predict user retention.  One will be a Random Forest classifier and the other will be a deep neural network."
   ]
  },
  {
   "cell_type": "markdown",
   "id": "3a60cd7a",
   "metadata": {},
   "source": [
    "### Random Forest Classifier"
   ]
  },
  {
   "cell_type": "code",
   "execution_count": 7,
   "id": "d3ba9f38",
   "metadata": {},
   "outputs": [],
   "source": [
    "from sklearn.ensemble import RandomForestClassifier\n",
    "from sklearn.model_selection import cross_val_score\n",
    "from sklearn.model_selection import GridSearchCV\n",
    "from sklearn import metrics\n",
    "from sklearn.metrics import confusion_matrix"
   ]
  },
  {
   "cell_type": "code",
   "execution_count": 8,
   "id": "36daf742",
   "metadata": {},
   "outputs": [
    {
     "name": "stdout",
     "output_type": "stream",
     "text": [
      "RandomForestClassifier(random_state=10)\n"
     ]
    }
   ],
   "source": [
    "# Initiate decision tree\n",
    "rf = RandomForestClassifier(random_state=10)\n",
    "print(rf)"
   ]
  },
  {
   "cell_type": "code",
   "execution_count": 9,
   "id": "188d7a5c",
   "metadata": {},
   "outputs": [
    {
     "name": "stdout",
     "output_type": "stream",
     "text": [
      "[0.75545302 0.74930089 0.75769016 0.75251678 0.7560123 ]\n"
     ]
    }
   ],
   "source": [
    "# Perform an initial 5-fold cross validation\n",
    "all_accuracies = cross_val_score(estimator=rf, X=X_train, y=y_train, cv=5)\n",
    "print(all_accuracies)"
   ]
  },
  {
   "cell_type": "code",
   "execution_count": 10,
   "id": "986c8acc",
   "metadata": {},
   "outputs": [
    {
     "name": "stdout",
     "output_type": "stream",
     "text": [
      "The average accuracy is 75.41946308724835%\n",
      "The std is 0.296209455858283%\n"
     ]
    }
   ],
   "source": [
    "# print the average accuracy and the std for the trees\n",
    "print('The average accuracy is ' + str(all_accuracies.mean()*100) + '%')\n",
    "print('The std is ' + str(all_accuracies.std()*100) + '%')"
   ]
  },
  {
   "cell_type": "code",
   "execution_count": 11,
   "id": "71c27a0f",
   "metadata": {},
   "outputs": [
    {
     "name": "stdout",
     "output_type": "stream",
     "text": [
      "{'bootstrap': True, 'criterion': 'gini', 'n_estimators': 400}\n",
      "The best accuracy was 75.57885906040269%\n"
     ]
    }
   ],
   "source": [
    "# Define the parameters to be tuned\n",
    "grid_param = {\n",
    "    'n_estimators': [100, 200, 300, 400, 500],\n",
    "    'criterion': ['gini', 'entropy'],\n",
    "    'bootstrap': [True, False]\n",
    "}\n",
    "\n",
    "# Initiate grid search\n",
    "gd_sr = GridSearchCV(estimator=rf,\n",
    "                     param_grid=grid_param,\n",
    "                     scoring='accuracy',\n",
    "                     cv=5,\n",
    "                     n_jobs=-1)\n",
    "\n",
    "# Fit to the training data\n",
    "gd_sr.fit(X_train, y_train)\n",
    "\n",
    "# Print the best parameters\n",
    "best_parameters = gd_sr.best_params_\n",
    "print(best_parameters)\n",
    "\n",
    "# Print the best accuracy\n",
    "best_result = gd_sr.best_score_\n",
    "print('The best accuracy was ' + str(best_result*100) + '%')"
   ]
  },
  {
   "cell_type": "code",
   "execution_count": 12,
   "id": "e3ffbd82",
   "metadata": {},
   "outputs": [],
   "source": [
    "# Initialize and fit new rf model with best params\n",
    "rf_best = RandomForestClassifier(n_estimators=300, bootstrap=True, criterion='entropy')\n",
    "rf_best.fit(X_train, y_train)\n",
    "\n",
    "# Make predictions\n",
    "y_pred = rf_best.predict(X_test)"
   ]
  },
  {
   "cell_type": "code",
   "execution_count": 13,
   "id": "bebf28e5",
   "metadata": {},
   "outputs": [
    {
     "name": "stdout",
     "output_type": "stream",
     "text": [
      "Accuracy: 0.7476510067114094\n"
     ]
    }
   ],
   "source": [
    "# Print accuracy\n",
    "print('Accuracy:', metrics.accuracy_score(y_test, y_pred))"
   ]
  },
  {
   "cell_type": "code",
   "execution_count": 14,
   "id": "59c6562f",
   "metadata": {},
   "outputs": [
    {
     "data": {
      "image/png": "[encoded data removed]",
      "text/plain": [
       "<Figure size 720x576 with 1 Axes>"
      ]
     },
     "metadata": {
      "needs_background": "light"
     },
     "output_type": "display_data"
    }
   ],
   "source": [
    "# Create dataframe for feature importance\n",
    "feature_importance = np.array(rf_best.feature_importances_)\n",
    "feature_names = np.array(X_train.columns)\n",
    "feature_df = pd.DataFrame({'feature_names':feature_names, 'feature_importance':feature_importance})\n",
    "\n",
    "# Sort dataframe by feature importance\n",
    "feature_df.sort_values(by=['feature_importance'], ascending=False, inplace=True)\n",
    "\n",
    "# Plot feature importance\n",
    "plt.figure(figsize=(10,8))\n",
    "sns.barplot(x=feature_df['feature_importance'], y=feature_df['feature_names'])\n",
    "plt.title('RandomForestClassifier Feature Importance')\n",
    "plt.xlabel('Feature Importance')\n",
    "plt.ylabel('Feature Names')\n",
    "plt.show();"
   ]
  },
  {
   "cell_type": "code",
   "execution_count": 15,
   "id": "114bd1a9",
   "metadata": {},
   "outputs": [
    {
     "data": {
      "image/png": "[encoded data removed]",
      "text/plain": [
       "<Figure size 432x288 with 2 Axes>"
      ]
     },
     "metadata": {
      "needs_background": "light"
     },
     "output_type": "display_data"
    }
   ],
   "source": [
    "# Visualize Confusion Matrix\n",
    "conf_mat = confusion_matrix(y_test, y_pred)\n",
    "\n",
    "sns.heatmap(conf_mat/np.sum(conf_mat), annot=True, \n",
    "            fmt='.2%', cmap='Blues');"
   ]
  },
  {
   "cell_type": "markdown",
   "id": "5befc450",
   "metadata": {},
   "source": [
    "**Random Forest Conclusions:**\n",
    "\n",
    "The RandomForestClassifier had an accuracy of about 75%.\n",
    "\n",
    "The test set was 38.66% retained users and 61.34% not retained users. The model predicted 38.74% retained and 61.26% not retained, but approximately 12.6% in each class was incorrectly predicted.\n",
    "\n",
    "The confusion matrix shows that there was almost an equal split between false positives (users predicted as retained that were in fact not retained) and false negatives (users predicted as not retained that were in fact retained)."
   ]
  },
  {
   "cell_type": "markdown",
   "id": "7422beb3",
   "metadata": {},
   "source": [
    "### Deep Neural Network\n",
    "\n"
   ]
  },
  {
   "cell_type": "code",
   "execution_count": 16,
   "id": "4285a9d2",
   "metadata": {},
   "outputs": [],
   "source": [
    "from keras.models import Sequential\n",
    "from keras.layers import Dense"
   ]
  },
  {
   "cell_type": "code",
   "execution_count": 17,
   "id": "6c15922c",
   "metadata": {},
   "outputs": [
    {
     "data": {
      "text/plain": [
       "(35760, 14)"
      ]
     },
     "execution_count": 17,
     "metadata": {},
     "output_type": "execute_result"
    }
   ],
   "source": [
    "X_train.shape"
   ]
  },
  {
   "cell_type": "code",
   "execution_count": 18,
   "id": "bd303eec",
   "metadata": {},
   "outputs": [],
   "source": [
    "# Define the keras model\n",
    "model = Sequential()\n",
    "model.add(Dense(12, input_dim=14, activation='relu'))\n",
    "model.add(Dense(8, activation='relu'))\n",
    "model.add(Dense(4, activation='relu'))\n",
    "model.add(Dense(1, activation='sigmoid'))"
   ]
  },
  {
   "cell_type": "code",
   "execution_count": 19,
   "id": "5ef3eb5f",
   "metadata": {},
   "outputs": [],
   "source": [
    "# compile the keras model\n",
    "model.compile(loss='binary_crossentropy', optimizer='adam', metrics=['accuracy'])"
   ]
  },
  {
   "cell_type": "code",
   "execution_count": 20,
   "id": "1a3fe7dd",
   "metadata": {},
   "outputs": [
    {
     "name": "stdout",
     "output_type": "stream",
     "text": [
      "Epoch 1/150\n",
      "3576/3576 [==============================] - 6s 2ms/step - loss: 0.6385 - accuracy: 0.7044\n",
      "Epoch 2/150\n",
      "3576/3576 [==============================] - 5s 1ms/step - loss: 0.5218 - accuracy: 0.7441\n",
      "Epoch 3/150\n",
      "3576/3576 [==============================] - 5s 1ms/step - loss: 0.5167 - accuracy: 0.7490\n",
      "Epoch 4/150\n",
      "3576/3576 [==============================] - 5s 1ms/step - loss: 0.5154 - accuracy: 0.7516\n",
      "Epoch 5/150\n",
      "3576/3576 [==============================] - 5s 1ms/step - loss: 0.5121 - accuracy: 0.7534\n",
      "Epoch 6/150\n",
      "3576/3576 [==============================] - 5s 1ms/step - loss: 0.5106 - accuracy: 0.7516\n",
      "Epoch 7/150\n",
      "3576/3576 [==============================] - 5s 1ms/step - loss: 0.5082 - accuracy: 0.7553\n",
      "Epoch 8/150\n",
      "3576/3576 [==============================] - 5s 1ms/step - loss: 0.5074 - accuracy: 0.7539\n",
      "Epoch 9/150\n",
      "3576/3576 [==============================] - 5s 1ms/step - loss: 0.5061 - accuracy: 0.7570\n",
      "Epoch 10/150\n",
      "3576/3576 [==============================] - 5s 1ms/step - loss: 0.5052 - accuracy: 0.7570\n",
      "Epoch 11/150\n",
      "3576/3576 [==============================] - 5s 1ms/step - loss: 0.5049 - accuracy: 0.7568\n",
      "Epoch 12/150\n",
      "3576/3576 [==============================] - 5s 1ms/step - loss: 0.5030 - accuracy: 0.7588\n",
      "Epoch 13/150\n",
      "3576/3576 [==============================] - 5s 1ms/step - loss: 0.5030 - accuracy: 0.7574\n",
      "Epoch 14/150\n",
      "3576/3576 [==============================] - 5s 2ms/step - loss: 0.5020 - accuracy: 0.7588\n",
      "Epoch 15/150\n",
      "3576/3576 [==============================] - 6s 2ms/step - loss: 0.5008 - accuracy: 0.7600\n",
      "Epoch 16/150\n",
      "3576/3576 [==============================] - 5s 1ms/step - loss: 0.5006 - accuracy: 0.7596\n",
      "Epoch 17/150\n",
      "3576/3576 [==============================] - 6s 2ms/step - loss: 0.4992 - accuracy: 0.7596\n",
      "Epoch 18/150\n",
      "3576/3576 [==============================] - 5s 1ms/step - loss: 0.4988 - accuracy: 0.7593\n",
      "Epoch 19/150\n",
      "3576/3576 [==============================] - 6s 2ms/step - loss: 0.4984 - accuracy: 0.7610\n",
      "Epoch 20/150\n",
      "3576/3576 [==============================] - 5s 1ms/step - loss: 0.4977 - accuracy: 0.7616\n",
      "Epoch 21/150\n",
      "3576/3576 [==============================] - 5s 1ms/step - loss: 0.4978 - accuracy: 0.7610\n",
      "Epoch 22/150\n",
      "3576/3576 [==============================] - 5s 1ms/step - loss: 0.4970 - accuracy: 0.7607\n",
      "Epoch 23/150\n",
      "3576/3576 [==============================] - 5s 1ms/step - loss: 0.4970 - accuracy: 0.7620\n",
      "Epoch 24/150\n",
      "3576/3576 [==============================] - 5s 1ms/step - loss: 0.4966 - accuracy: 0.7612\n",
      "Epoch 25/150\n",
      "3576/3576 [==============================] - 5s 1ms/step - loss: 0.4962 - accuracy: 0.7615\n",
      "Epoch 26/150\n",
      "3576/3576 [==============================] - 5s 2ms/step - loss: 0.4965 - accuracy: 0.7604\n",
      "Epoch 27/150\n",
      "3576/3576 [==============================] - 5s 2ms/step - loss: 0.4956 - accuracy: 0.7618\n",
      "Epoch 28/150\n",
      "3576/3576 [==============================] - 5s 1ms/step - loss: 0.4957 - accuracy: 0.7611\n",
      "Epoch 29/150\n",
      "3576/3576 [==============================] - 5s 1ms/step - loss: 0.4955 - accuracy: 0.7633\n",
      "Epoch 30/150\n",
      "3576/3576 [==============================] - 5s 1ms/step - loss: 0.4959 - accuracy: 0.7620\n",
      "Epoch 31/150\n",
      "3576/3576 [==============================] - 5s 1ms/step - loss: 0.4949 - accuracy: 0.7623\n",
      "Epoch 32/150\n",
      "3576/3576 [==============================] - 7s 2ms/step - loss: 0.4948 - accuracy: 0.7634\n",
      "Epoch 33/150\n",
      "3576/3576 [==============================] - 6s 2ms/step - loss: 0.4947 - accuracy: 0.7626\n",
      "Epoch 34/150\n",
      "3576/3576 [==============================] - 6s 2ms/step - loss: 0.4951 - accuracy: 0.7613\n",
      "Epoch 35/150\n",
      "3576/3576 [==============================] - 5s 1ms/step - loss: 0.4949 - accuracy: 0.7624\n",
      "Epoch 36/150\n",
      "3576/3576 [==============================] - 5s 1ms/step - loss: 0.4945 - accuracy: 0.7629\n",
      "Epoch 37/150\n",
      "3576/3576 [==============================] - 5s 1ms/step - loss: 0.4945 - accuracy: 0.7616\n",
      "Epoch 38/150\n",
      "3576/3576 [==============================] - 5s 1ms/step - loss: 0.4936 - accuracy: 0.7635\n",
      "Epoch 39/150\n",
      "3576/3576 [==============================] - 6s 2ms/step - loss: 0.4941 - accuracy: 0.7628\n",
      "Epoch 40/150\n",
      "3576/3576 [==============================] - 5s 2ms/step - loss: 0.4948 - accuracy: 0.7622\n",
      "Epoch 41/150\n",
      "3576/3576 [==============================] - 6s 2ms/step - loss: 0.4941 - accuracy: 0.7624\n",
      "Epoch 42/150\n",
      "3576/3576 [==============================] - 6s 2ms/step - loss: 0.4938 - accuracy: 0.7636\n",
      "Epoch 43/150\n",
      "3576/3576 [==============================] - 5s 1ms/step - loss: 0.4936 - accuracy: 0.7628\n",
      "Epoch 44/150\n",
      "3576/3576 [==============================] - 5s 1ms/step - loss: 0.4938 - accuracy: 0.7624\n",
      "Epoch 45/150\n",
      "3576/3576 [==============================] - 5s 1ms/step - loss: 0.4935 - accuracy: 0.7626\n",
      "Epoch 46/150\n",
      "3576/3576 [==============================] - 5s 1ms/step - loss: 0.4935 - accuracy: 0.7630\n",
      "Epoch 47/150\n",
      "3576/3576 [==============================] - 5s 1ms/step - loss: 0.4934 - accuracy: 0.7638\n",
      "Epoch 48/150\n",
      "3576/3576 [==============================] - 5s 1ms/step - loss: 0.4929 - accuracy: 0.7639: 0s - l\n",
      "Epoch 49/150\n",
      "3576/3576 [==============================] - 5s 1ms/step - loss: 0.4930 - accuracy: 0.7638\n",
      "Epoch 50/150\n",
      "3576/3576 [==============================] - 5s 1ms/step - loss: 0.4936 - accuracy: 0.7632\n",
      "Epoch 51/150\n",
      "3576/3576 [==============================] - 6s 2ms/step - loss: 0.4932 - accuracy: 0.7639\n",
      "Epoch 52/150\n",
      "3576/3576 [==============================] - 5s 1ms/step - loss: 0.4929 - accuracy: 0.7627\n",
      "Epoch 53/150\n",
      "3576/3576 [==============================] - 6s 2ms/step - loss: 0.4931 - accuracy: 0.7633\n",
      "Epoch 54/150\n",
      "3576/3576 [==============================] - 5s 1ms/step - loss: 0.4930 - accuracy: 0.7635\n",
      "Epoch 55/150\n",
      "3576/3576 [==============================] - 6s 2ms/step - loss: 0.4927 - accuracy: 0.7629\n",
      "Epoch 56/150\n",
      "3576/3576 [==============================] - 5s 1ms/step - loss: 0.4919 - accuracy: 0.7633\n",
      "Epoch 57/150\n",
      "3576/3576 [==============================] - 5s 1ms/step - loss: 0.4926 - accuracy: 0.7636\n",
      "Epoch 58/150\n",
      "3576/3576 [==============================] - 5s 1ms/step - loss: 0.4928 - accuracy: 0.7629\n",
      "Epoch 59/150\n",
      "3576/3576 [==============================] - 6s 2ms/step - loss: 0.4923 - accuracy: 0.7652\n",
      "Epoch 60/150\n",
      "3576/3576 [==============================] - 5s 1ms/step - loss: 0.4918 - accuracy: 0.7645\n",
      "Epoch 61/150\n",
      "3576/3576 [==============================] - 5s 1ms/step - loss: 0.4923 - accuracy: 0.7641\n",
      "Epoch 62/150\n",
      "3576/3576 [==============================] - 6s 2ms/step - loss: 0.4919 - accuracy: 0.7646: 0s - loss: 0.4917 - accuracy: \n",
      "Epoch 63/150\n",
      "3576/3576 [==============================] - 9s 2ms/step - loss: 0.4920 - accuracy: 0.7638\n",
      "Epoch 64/150\n",
      "3576/3576 [==============================] - 8s 2ms/step - loss: 0.4921 - accuracy: 0.7636\n",
      "Epoch 65/150\n",
      "3576/3576 [==============================] - 5s 1ms/step - loss: 0.4920 - accuracy: 0.7620: 0s - loss: 0.4935 - accuracy: 0. - ETA: \n",
      "Epoch 66/150\n",
      "3576/3576 [==============================] - 5s 1ms/step - loss: 0.4921 - accuracy: 0.7638: 0s - loss: 0.4918  - ETA: 0s - l\n",
      "Epoch 67/150\n",
      "3576/3576 [==============================] - 5s 1ms/step - loss: 0.4916 - accuracy: 0.7653\n",
      "Epoch 68/150\n",
      "3576/3576 [==============================] - 6s 2ms/step - loss: 0.4918 - accuracy: 0.7643\n",
      "Epoch 69/150\n",
      "3576/3576 [==============================] - 7s 2ms/step - loss: 0.4906 - accuracy: 0.7650\n",
      "Epoch 70/150\n",
      "3576/3576 [==============================] - 5s 1ms/step - loss: 0.4912 - accuracy: 0.7639\n",
      "Epoch 71/150\n",
      "3576/3576 [==============================] - 5s 1ms/step - loss: 0.4917 - accuracy: 0.7635\n",
      "Epoch 72/150\n",
      "3576/3576 [==============================] - 5s 1ms/step - loss: 0.4911 - accuracy: 0.7642\n",
      "Epoch 73/150\n",
      "3576/3576 [==============================] - 5s 1ms/step - loss: 0.4908 - accuracy: 0.7659\n",
      "Epoch 74/150\n",
      "3576/3576 [==============================] - 5s 1ms/step - loss: 0.4914 - accuracy: 0.7648\n",
      "Epoch 75/150\n",
      "3576/3576 [==============================] - 5s 1ms/step - loss: 0.4904 - accuracy: 0.7652\n",
      "Epoch 76/150\n",
      "3576/3576 [==============================] - 5s 1ms/step - loss: 0.4905 - accuracy: 0.7637\n",
      "Epoch 77/150\n",
      "3576/3576 [==============================] - 5s 2ms/step - loss: 0.4902 - accuracy: 0.7643\n",
      "Epoch 78/150\n"
     ]
    },
    {
     "name": "stdout",
     "output_type": "stream",
     "text": [
      "3576/3576 [==============================] - 5s 1ms/step - loss: 0.4907 - accuracy: 0.7654\n",
      "Epoch 79/150\n",
      "3576/3576 [==============================] - 5s 1ms/step - loss: 0.4906 - accuracy: 0.7652\n",
      "Epoch 80/150\n",
      "3576/3576 [==============================] - 5s 1ms/step - loss: 0.4898 - accuracy: 0.7662\n",
      "Epoch 81/150\n",
      "3576/3576 [==============================] - 5s 1ms/step - loss: 0.4905 - accuracy: 0.7637\n",
      "Epoch 82/150\n",
      "3576/3576 [==============================] - 5s 1ms/step - loss: 0.4903 - accuracy: 0.7642\n",
      "Epoch 83/150\n",
      "3576/3576 [==============================] - 5s 1ms/step - loss: 0.4900 - accuracy: 0.7661\n",
      "Epoch 84/150\n",
      "3576/3576 [==============================] - 5s 1ms/step - loss: 0.4903 - accuracy: 0.7641\n",
      "Epoch 85/150\n",
      "3576/3576 [==============================] - 5s 1ms/step - loss: 0.4899 - accuracy: 0.7637\n",
      "Epoch 86/150\n",
      "3576/3576 [==============================] - 5s 1ms/step - loss: 0.4905 - accuracy: 0.7658: 0s - loss: 0.4906 - accu\n",
      "Epoch 87/150\n",
      "3576/3576 [==============================] - 5s 1ms/step - loss: 0.4898 - accuracy: 0.7640\n",
      "Epoch 88/150\n",
      "3576/3576 [==============================] - 5s 1ms/step - loss: 0.4899 - accuracy: 0.7647\n",
      "Epoch 89/150\n",
      "3576/3576 [==============================] - 5s 1ms/step - loss: 0.4903 - accuracy: 0.7636\n",
      "Epoch 90/150\n",
      "3576/3576 [==============================] - 6s 2ms/step - loss: 0.4904 - accuracy: 0.7641\n",
      "Epoch 91/150\n",
      "3576/3576 [==============================] - 5s 1ms/step - loss: 0.4898 - accuracy: 0.7653\n",
      "Epoch 92/150\n",
      "3576/3576 [==============================] - 5s 1ms/step - loss: 0.4896 - accuracy: 0.7633\n",
      "Epoch 93/150\n",
      "3576/3576 [==============================] - 5s 1ms/step - loss: 0.4896 - accuracy: 0.7638\n",
      "Epoch 94/150\n",
      "3576/3576 [==============================] - 5s 1ms/step - loss: 0.4892 - accuracy: 0.7653\n",
      "Epoch 95/150\n",
      "3576/3576 [==============================] - 5s 1ms/step - loss: 0.4895 - accuracy: 0.7637\n",
      "Epoch 96/150\n",
      "3576/3576 [==============================] - 5s 1ms/step - loss: 0.4894 - accuracy: 0.7645\n",
      "Epoch 97/150\n",
      "3576/3576 [==============================] - 6s 2ms/step - loss: 0.4895 - accuracy: 0.7658\n",
      "Epoch 98/150\n",
      "3576/3576 [==============================] - 6s 2ms/step - loss: 0.4889 - accuracy: 0.7652\n",
      "Epoch 99/150\n",
      "3576/3576 [==============================] - 6s 2ms/step - loss: 0.4893 - accuracy: 0.7663\n",
      "Epoch 100/150\n",
      "3576/3576 [==============================] - 6s 2ms/step - loss: 0.4890 - accuracy: 0.7664\n",
      "Epoch 101/150\n",
      "3576/3576 [==============================] - 5s 1ms/step - loss: 0.4891 - accuracy: 0.7668\n",
      "Epoch 102/150\n",
      "3576/3576 [==============================] - 5s 2ms/step - loss: 0.4891 - accuracy: 0.7662\n",
      "Epoch 103/150\n",
      "3576/3576 [==============================] - 5s 2ms/step - loss: 0.4891 - accuracy: 0.7661\n",
      "Epoch 104/150\n",
      "3576/3576 [==============================] - 5s 1ms/step - loss: 0.4889 - accuracy: 0.7653\n",
      "Epoch 105/150\n",
      "3576/3576 [==============================] - 5s 1ms/step - loss: 0.4889 - accuracy: 0.7667\n",
      "Epoch 106/150\n",
      "3576/3576 [==============================] - 5s 1ms/step - loss: 0.4889 - accuracy: 0.7668\n",
      "Epoch 107/150\n",
      "3576/3576 [==============================] - 5s 1ms/step - loss: 0.4886 - accuracy: 0.7660\n",
      "Epoch 108/150\n",
      "3576/3576 [==============================] - 6s 2ms/step - loss: 0.4888 - accuracy: 0.7666: 0s - loss: 0.4\n",
      "Epoch 109/150\n",
      "3576/3576 [==============================] - 5s 2ms/step - loss: 0.4884 - accuracy: 0.7657\n",
      "Epoch 110/150\n",
      "3576/3576 [==============================] - 5s 1ms/step - loss: 0.4886 - accuracy: 0.7676\n",
      "Epoch 111/150\n",
      "3576/3576 [==============================] - 5s 1ms/step - loss: 0.4887 - accuracy: 0.7662: 0s - loss: 0.4890 - accuracy: 0.\n",
      "Epoch 112/150\n",
      "3576/3576 [==============================] - 5s 1ms/step - loss: 0.4888 - accuracy: 0.7657\n",
      "Epoch 113/150\n",
      "3576/3576 [==============================] - 5s 1ms/step - loss: 0.4881 - accuracy: 0.7664\n",
      "Epoch 114/150\n",
      "3576/3576 [==============================] - 5s 1ms/step - loss: 0.4883 - accuracy: 0.7659\n",
      "Epoch 115/150\n",
      "3576/3576 [==============================] - 5s 1ms/step - loss: 0.4881 - accuracy: 0.7672\n",
      "Epoch 116/150\n",
      "3576/3576 [==============================] - 5s 1ms/step - loss: 0.4883 - accuracy: 0.7654\n",
      "Epoch 117/150\n",
      "3576/3576 [==============================] - 5s 1ms/step - loss: 0.4883 - accuracy: 0.7654\n",
      "Epoch 118/150\n",
      "3576/3576 [==============================] - 5s 1ms/step - loss: 0.4882 - accuracy: 0.7666\n",
      "Epoch 119/150\n",
      "3576/3576 [==============================] - 5s 1ms/step - loss: 0.4877 - accuracy: 0.7666\n",
      "Epoch 120/150\n",
      "3576/3576 [==============================] - 6s 2ms/step - loss: 0.4878 - accuracy: 0.7666\n",
      "Epoch 121/150\n",
      "3576/3576 [==============================] - 7s 2ms/step - loss: 0.4876 - accuracy: 0.7662\n",
      "Epoch 122/150\n",
      "3576/3576 [==============================] - 5s 1ms/step - loss: 0.4873 - accuracy: 0.7671\n",
      "Epoch 123/150\n",
      "3576/3576 [==============================] - 5s 1ms/step - loss: 0.4875 - accuracy: 0.7668\n",
      "Epoch 124/150\n",
      "3576/3576 [==============================] - 6s 2ms/step - loss: 0.4882 - accuracy: 0.7650\n",
      "Epoch 125/150\n",
      "3576/3576 [==============================] - 6s 2ms/step - loss: 0.4881 - accuracy: 0.7669\n",
      "Epoch 126/150\n",
      "3576/3576 [==============================] - 5s 1ms/step - loss: 0.4878 - accuracy: 0.7662\n",
      "Epoch 127/150\n",
      "3576/3576 [==============================] - 5s 1ms/step - loss: 0.4876 - accuracy: 0.7666\n",
      "Epoch 128/150\n",
      "3576/3576 [==============================] - 5s 1ms/step - loss: 0.4875 - accuracy: 0.7665\n",
      "Epoch 129/150\n",
      "3576/3576 [==============================] - 6s 2ms/step - loss: 0.4878 - accuracy: 0.7663\n",
      "Epoch 130/150\n",
      "3576/3576 [==============================] - 5s 1ms/step - loss: 0.4870 - accuracy: 0.7668\n",
      "Epoch 131/150\n",
      "3576/3576 [==============================] - 5s 1ms/step - loss: 0.4871 - accuracy: 0.7678\n",
      "Epoch 132/150\n",
      "3576/3576 [==============================] - 6s 2ms/step - loss: 0.4872 - accuracy: 0.7671\n",
      "Epoch 133/150\n",
      "3576/3576 [==============================] - 5s 1ms/step - loss: 0.4876 - accuracy: 0.7666\n",
      "Epoch 134/150\n",
      "3576/3576 [==============================] - 5s 1ms/step - loss: 0.4870 - accuracy: 0.7665\n",
      "Epoch 135/150\n",
      "3576/3576 [==============================] - 5s 1ms/step - loss: 0.4873 - accuracy: 0.7677\n",
      "Epoch 136/150\n",
      "3576/3576 [==============================] - 5s 2ms/step - loss: 0.4871 - accuracy: 0.7676\n",
      "Epoch 137/150\n",
      "3576/3576 [==============================] - 5s 1ms/step - loss: 0.4876 - accuracy: 0.7654\n",
      "Epoch 138/150\n",
      "3576/3576 [==============================] - 5s 1ms/step - loss: 0.4871 - accuracy: 0.7674\n",
      "Epoch 139/150\n",
      "3576/3576 [==============================] - 5s 1ms/step - loss: 0.4870 - accuracy: 0.7666\n",
      "Epoch 140/150\n",
      "3576/3576 [==============================] - 5s 1ms/step - loss: 0.4868 - accuracy: 0.7675\n",
      "Epoch 141/150\n",
      "3576/3576 [==============================] - 5s 1ms/step - loss: 0.4878 - accuracy: 0.7660\n",
      "Epoch 142/150\n",
      "3576/3576 [==============================] - 5s 1ms/step - loss: 0.4865 - accuracy: 0.7671\n",
      "Epoch 143/150\n",
      "3576/3576 [==============================] - 5s 1ms/step - loss: 0.4867 - accuracy: 0.7685\n",
      "Epoch 144/150\n",
      "3576/3576 [==============================] - 5s 1ms/step - loss: 0.4869 - accuracy: 0.7674\n",
      "Epoch 145/150\n",
      "3576/3576 [==============================] - 5s 1ms/step - loss: 0.4875 - accuracy: 0.7664\n",
      "Epoch 146/150\n",
      "3576/3576 [==============================] - 5s 2ms/step - loss: 0.4870 - accuracy: 0.7680\n",
      "Epoch 147/150\n",
      "3576/3576 [==============================] - 5s 1ms/step - loss: 0.4870 - accuracy: 0.7681\n",
      "Epoch 148/150\n",
      "3576/3576 [==============================] - 5s 1ms/step - loss: 0.4867 - accuracy: 0.7676\n",
      "Epoch 149/150\n",
      "3576/3576 [==============================] - 5s 1ms/step - loss: 0.4870 - accuracy: 0.7682\n",
      "Epoch 150/150\n",
      "3576/3576 [==============================] - 5s 2ms/step - loss: 0.4871 - accuracy: 0.7681\n"
     ]
    },
    {
     "data": {
      "text/plain": [
       "<keras.callbacks.History at 0x161b584cb20>"
      ]
     },
     "execution_count": 20,
     "metadata": {},
     "output_type": "execute_result"
    }
   ],
   "source": [
    "# fit the keras model on the dataset\n",
    "model.fit(X_train, y_train, epochs=150, batch_size=10)"
   ]
  },
  {
   "cell_type": "code",
   "execution_count": 21,
   "id": "b731c147",
   "metadata": {},
   "outputs": [
    {
     "name": "stdout",
     "output_type": "stream",
     "text": [
      "1118/1118 [==============================] - 2s 1ms/step - loss: 0.4935 - accuracy: 0.7619\n",
      "Accuracy: 76.19\n"
     ]
    }
   ],
   "source": [
    "# evaluate the keras model\n",
    "_, accuracy = model.evaluate(X_train, y_train)\n",
    "print('Accuracy: %.2f' % (accuracy*100))"
   ]
  },
  {
   "cell_type": "code",
   "execution_count": 22,
   "id": "139e35ef",
   "metadata": {},
   "outputs": [],
   "source": [
    "# make class predictions with the model\n",
    "y_pred = (model.predict(X_test) > 0.5).astype(int)"
   ]
  },
  {
   "cell_type": "code",
   "execution_count": 23,
   "id": "115be6b7",
   "metadata": {},
   "outputs": [
    {
     "name": "stdout",
     "output_type": "stream",
     "text": [
      "Accuracy: 75.67114093959731 %\n"
     ]
    }
   ],
   "source": [
    "# Print accuracy\n",
    "print('Accuracy:', metrics.accuracy_score(y_test, y_pred)*100, '%')"
   ]
  },
  {
   "cell_type": "code",
   "execution_count": 24,
   "id": "b1dd8dc0",
   "metadata": {},
   "outputs": [
    {
     "data": {
      "image/png": "[encoded data removed]",
      "text/plain": [
       "<Figure size 432x288 with 2 Axes>"
      ]
     },
     "metadata": {
      "needs_background": "light"
     },
     "output_type": "display_data"
    }
   ],
   "source": [
    "# Visualize Confusion Matrix\n",
    "conf_mat = confusion_matrix(y_test, y_pred)\n",
    "\n",
    "sns.heatmap(conf_mat/np.sum(conf_mat), annot=True, \n",
    "            fmt='.2%', cmap='Blues');"
   ]
  },
  {
   "cell_type": "markdown",
   "id": "67ac4857",
   "metadata": {},
   "source": [
    "**Deep Neural Network Conclusions:**\n",
    "\n",
    "The Keras model had an accuracy of about 76%, just slightly better than the RandomForestClassifier.\n",
    "\n",
    "Though it had higher accuracy overall, it tended to predict more false positives (users predicted as retained that were in fact not retained) and fewer false negatives (users predicted as not retained that were in fact retained).\n",
    "\n",
    "This model did much better at predicting not retained users than retained users, which may be of more value to Ultimate since it would show them which users are likely to stop using their service.  However, this could be due to the model's tendency to overpredict not retained.  Since there are more not retained users in the train and test set than there are retained users, the model can overpredict not retained and still have a fairly high accuracy."
   ]
  },
  {
   "cell_type": "markdown",
   "id": "cb9aa651",
   "metadata": {},
   "source": [
    "# Key Insights\n",
    "\n",
    "Using either of the two models, Ultimate can predict with approximately 75% accuracy whether users will be retained or not. Ultimate can use this prediction to offer rewards, discounts, or other incentives to users who are predicted to stop using the service. This could encourage inactive users to continue using the service.\n",
    "\n",
    "If Ultimate were to take this approach, it would be in their best interest to use the RandomForestClassifier model because it had a lower percentage of false negatives (users predicted as not retained that were in fact retained).  If the deep neural network was used Ultimate would end up offering incentives to more users who were actually retained.  By using the model with fewer false negatives, Ultimate would not be giving as many unecessary incentives, meaning incentives given to people who do not need an incentive to continue using the service."
   ]
  }
 ],
 "metadata": {
  "kernelspec": {
   "display_name": "Python 3",
   "language": "python",
   "name": "python3"
  },
  "language_info": {
   "codemirror_mode": {
    "name": "ipython",
    "version": 3
   },
   "file_extension": ".py",
   "mimetype": "text/x-python",
   "name": "python",
   "nbconvert_exporter": "python",
   "pygments_lexer": "ipython3",
   "version": "3.8.8"
  }
 },
 "nbformat": 4,
 "nbformat_minor": 5
}
