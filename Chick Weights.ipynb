{
 "cells": [
  {
   "cell_type": "code",
   "execution_count": 1,
   "id": "07cdf7b7",
   "metadata": {},
   "outputs": [],
   "source": [
    "import pandas as pd\n",
    "import numpy as np\n",
    "import seaborn as sns\n",
    "import matplotlib.pyplot as plt"
   ]
  },
  {
   "cell_type": "code",
   "execution_count": 2,
   "id": "01622d08",
   "metadata": {},
   "outputs": [
    {
     "data": {
      "text/html": [
       "<div>\n",
       "<style scoped>\n",
       "    .dataframe tbody tr th:only-of-type {\n",
       "        vertical-align: middle;\n",
       "    }\n",
       "\n",
       "    .dataframe tbody tr th {\n",
       "        vertical-align: top;\n",
       "    }\n",
       "\n",
       "    .dataframe thead th {\n",
       "        text-align: right;\n",
       "    }\n",
       "</style>\n",
       "<table border=\"1\" class=\"dataframe\">\n",
       "  <thead>\n",
       "    <tr style=\"text-align: right;\">\n",
       "      <th></th>\n",
       "      <th>Unnamed: 0</th>\n",
       "      <th>weight</th>\n",
       "      <th>Time</th>\n",
       "      <th>Chick</th>\n",
       "      <th>Diet</th>\n",
       "    </tr>\n",
       "  </thead>\n",
       "  <tbody>\n",
       "    <tr>\n",
       "      <th>0</th>\n",
       "      <td>1</td>\n",
       "      <td>42</td>\n",
       "      <td>0</td>\n",
       "      <td>1</td>\n",
       "      <td>1</td>\n",
       "    </tr>\n",
       "    <tr>\n",
       "      <th>1</th>\n",
       "      <td>2</td>\n",
       "      <td>51</td>\n",
       "      <td>2</td>\n",
       "      <td>1</td>\n",
       "      <td>1</td>\n",
       "    </tr>\n",
       "    <tr>\n",
       "      <th>2</th>\n",
       "      <td>3</td>\n",
       "      <td>59</td>\n",
       "      <td>4</td>\n",
       "      <td>1</td>\n",
       "      <td>1</td>\n",
       "    </tr>\n",
       "    <tr>\n",
       "      <th>3</th>\n",
       "      <td>4</td>\n",
       "      <td>64</td>\n",
       "      <td>6</td>\n",
       "      <td>1</td>\n",
       "      <td>1</td>\n",
       "    </tr>\n",
       "    <tr>\n",
       "      <th>4</th>\n",
       "      <td>5</td>\n",
       "      <td>76</td>\n",
       "      <td>8</td>\n",
       "      <td>1</td>\n",
       "      <td>1</td>\n",
       "    </tr>\n",
       "  </tbody>\n",
       "</table>\n",
       "</div>"
      ],
      "text/plain": [
       "   Unnamed: 0  weight  Time  Chick  Diet\n",
       "0           1      42     0      1     1\n",
       "1           2      51     2      1     1\n",
       "2           3      59     4      1     1\n",
       "3           4      64     6      1     1\n",
       "4           5      76     8      1     1"
      ]
     },
     "execution_count": 2,
     "metadata": {},
     "output_type": "execute_result"
    }
   ],
   "source": [
    "df = pd.read_csv('ChickWeight.csv')\n",
    "df.head()"
   ]
  },
  {
   "cell_type": "code",
   "execution_count": 3,
   "id": "12de031a",
   "metadata": {},
   "outputs": [
    {
     "data": {
      "text/html": [
       "<div>\n",
       "<style scoped>\n",
       "    .dataframe tbody tr th:only-of-type {\n",
       "        vertical-align: middle;\n",
       "    }\n",
       "\n",
       "    .dataframe tbody tr th {\n",
       "        vertical-align: top;\n",
       "    }\n",
       "\n",
       "    .dataframe thead th {\n",
       "        text-align: right;\n",
       "    }\n",
       "</style>\n",
       "<table border=\"1\" class=\"dataframe\">\n",
       "  <thead>\n",
       "    <tr style=\"text-align: right;\">\n",
       "      <th></th>\n",
       "      <th>weight</th>\n",
       "      <th>Time</th>\n",
       "      <th>Chick</th>\n",
       "      <th>Diet</th>\n",
       "    </tr>\n",
       "  </thead>\n",
       "  <tbody>\n",
       "    <tr>\n",
       "      <th>0</th>\n",
       "      <td>42</td>\n",
       "      <td>0</td>\n",
       "      <td>1</td>\n",
       "      <td>1</td>\n",
       "    </tr>\n",
       "    <tr>\n",
       "      <th>1</th>\n",
       "      <td>51</td>\n",
       "      <td>2</td>\n",
       "      <td>1</td>\n",
       "      <td>1</td>\n",
       "    </tr>\n",
       "    <tr>\n",
       "      <th>2</th>\n",
       "      <td>59</td>\n",
       "      <td>4</td>\n",
       "      <td>1</td>\n",
       "      <td>1</td>\n",
       "    </tr>\n",
       "    <tr>\n",
       "      <th>3</th>\n",
       "      <td>64</td>\n",
       "      <td>6</td>\n",
       "      <td>1</td>\n",
       "      <td>1</td>\n",
       "    </tr>\n",
       "    <tr>\n",
       "      <th>4</th>\n",
       "      <td>76</td>\n",
       "      <td>8</td>\n",
       "      <td>1</td>\n",
       "      <td>1</td>\n",
       "    </tr>\n",
       "  </tbody>\n",
       "</table>\n",
       "</div>"
      ],
      "text/plain": [
       "   weight  Time  Chick  Diet\n",
       "0      42     0      1     1\n",
       "1      51     2      1     1\n",
       "2      59     4      1     1\n",
       "3      64     6      1     1\n",
       "4      76     8      1     1"
      ]
     },
     "execution_count": 3,
     "metadata": {},
     "output_type": "execute_result"
    }
   ],
   "source": [
    "df = df[['weight', 'Time', 'Chick', 'Diet']]\n",
    "df.head()"
   ]
  },
  {
   "cell_type": "code",
   "execution_count": 4,
   "id": "f1afd1a6",
   "metadata": {},
   "outputs": [
    {
     "data": {
      "text/plain": [
       "weight    0\n",
       "Time      0\n",
       "Chick     0\n",
       "Diet      0\n",
       "dtype: int64"
      ]
     },
     "execution_count": 4,
     "metadata": {},
     "output_type": "execute_result"
    }
   ],
   "source": [
    "# check for missing values\n",
    "df.isna().sum()"
   ]
  },
  {
   "cell_type": "code",
   "execution_count": 5,
   "id": "ee360c14",
   "metadata": {},
   "outputs": [
    {
     "data": {
      "text/plain": [
       "array([ 1,  2,  3,  4,  5,  6,  7,  8,  9, 10, 11, 12, 13, 14, 15, 16, 17,\n",
       "       18, 19, 20, 21, 22, 23, 24, 25, 26, 27, 28, 29, 30, 31, 32, 33, 34,\n",
       "       35, 36, 37, 38, 39, 40, 41, 42, 43, 44, 45, 46, 47, 48, 49, 50],\n",
       "      dtype=int64)"
      ]
     },
     "execution_count": 5,
     "metadata": {},
     "output_type": "execute_result"
    }
   ],
   "source": [
    "# see how many chicks there are\n",
    "df['Chick'].unique()"
   ]
  },
  {
   "cell_type": "code",
   "execution_count": 6,
   "id": "39ba35ad",
   "metadata": {},
   "outputs": [
    {
     "data": {
      "text/plain": [
       "(578, 4)"
      ]
     },
     "execution_count": 6,
     "metadata": {},
     "output_type": "execute_result"
    }
   ],
   "source": [
    "# check the shape of the df\n",
    "df.shape"
   ]
  },
  {
   "cell_type": "markdown",
   "id": "4dd511f9",
   "metadata": {},
   "source": [
    "Since there are 50 chicks and 12 days of measurement, there should be 600 rows.  There must be some missing data, but we can find out where later.  For now there are still some basic things to check out."
   ]
  },
  {
   "cell_type": "code",
   "execution_count": 7,
   "id": "2b73d7b1",
   "metadata": {},
   "outputs": [
    {
     "data": {
      "image/png": "[encoded data removed]",
      "text/plain": [
       "<Figure size 432x288 with 1 Axes>"
      ]
     },
     "metadata": {
      "needs_background": "light"
     },
     "output_type": "display_data"
    }
   ],
   "source": [
    "# See how many chicks are on each diet to start\n",
    "sns.countplot(x='Diet', data=df[df['Time'] == 0])\n",
    "plt.yticks(range(0, 21, 5))\n",
    "plt.title('Number of Chicks on Each Diet');"
   ]
  },
  {
   "cell_type": "code",
   "execution_count": 8,
   "id": "a2133454",
   "metadata": {},
   "outputs": [
    {
     "data": {
      "text/html": [
       "<div>\n",
       "<style scoped>\n",
       "    .dataframe tbody tr th:only-of-type {\n",
       "        vertical-align: middle;\n",
       "    }\n",
       "\n",
       "    .dataframe tbody tr th {\n",
       "        vertical-align: top;\n",
       "    }\n",
       "\n",
       "    .dataframe thead th {\n",
       "        text-align: right;\n",
       "    }\n",
       "</style>\n",
       "<table border=\"1\" class=\"dataframe\">\n",
       "  <thead>\n",
       "    <tr style=\"text-align: right;\">\n",
       "      <th></th>\n",
       "      <th>weight</th>\n",
       "      <th>Time</th>\n",
       "      <th>Chick</th>\n",
       "      <th>Diet</th>\n",
       "    </tr>\n",
       "  </thead>\n",
       "  <tbody>\n",
       "    <tr>\n",
       "      <th>count</th>\n",
       "      <td>50.000000</td>\n",
       "      <td>50.0</td>\n",
       "      <td>50.00000</td>\n",
       "      <td>50.00000</td>\n",
       "    </tr>\n",
       "    <tr>\n",
       "      <th>mean</th>\n",
       "      <td>41.060000</td>\n",
       "      <td>0.0</td>\n",
       "      <td>25.50000</td>\n",
       "      <td>2.20000</td>\n",
       "    </tr>\n",
       "    <tr>\n",
       "      <th>std</th>\n",
       "      <td>1.132272</td>\n",
       "      <td>0.0</td>\n",
       "      <td>14.57738</td>\n",
       "      <td>1.17803</td>\n",
       "    </tr>\n",
       "    <tr>\n",
       "      <th>min</th>\n",
       "      <td>39.000000</td>\n",
       "      <td>0.0</td>\n",
       "      <td>1.00000</td>\n",
       "      <td>1.00000</td>\n",
       "    </tr>\n",
       "    <tr>\n",
       "      <th>25%</th>\n",
       "      <td>41.000000</td>\n",
       "      <td>0.0</td>\n",
       "      <td>13.25000</td>\n",
       "      <td>1.00000</td>\n",
       "    </tr>\n",
       "    <tr>\n",
       "      <th>50%</th>\n",
       "      <td>41.000000</td>\n",
       "      <td>0.0</td>\n",
       "      <td>25.50000</td>\n",
       "      <td>2.00000</td>\n",
       "    </tr>\n",
       "    <tr>\n",
       "      <th>75%</th>\n",
       "      <td>42.000000</td>\n",
       "      <td>0.0</td>\n",
       "      <td>37.75000</td>\n",
       "      <td>3.00000</td>\n",
       "    </tr>\n",
       "    <tr>\n",
       "      <th>max</th>\n",
       "      <td>43.000000</td>\n",
       "      <td>0.0</td>\n",
       "      <td>50.00000</td>\n",
       "      <td>4.00000</td>\n",
       "    </tr>\n",
       "  </tbody>\n",
       "</table>\n",
       "</div>"
      ],
      "text/plain": [
       "          weight  Time     Chick      Diet\n",
       "count  50.000000  50.0  50.00000  50.00000\n",
       "mean   41.060000   0.0  25.50000   2.20000\n",
       "std     1.132272   0.0  14.57738   1.17803\n",
       "min    39.000000   0.0   1.00000   1.00000\n",
       "25%    41.000000   0.0  13.25000   1.00000\n",
       "50%    41.000000   0.0  25.50000   2.00000\n",
       "75%    42.000000   0.0  37.75000   3.00000\n",
       "max    43.000000   0.0  50.00000   4.00000"
      ]
     },
     "execution_count": 8,
     "metadata": {},
     "output_type": "execute_result"
    }
   ],
   "source": [
    "# initial weight distribution (Time = 0)\n",
    "born = df[df['Time'] == 0]\n",
    "born.describe()"
   ]
  },
  {
   "cell_type": "code",
   "execution_count": 9,
   "id": "9a6758c3",
   "metadata": {},
   "outputs": [
    {
     "data": {
      "image/png": "[encoded data removed]",
      "text/plain": [
       "<Figure size 432x288 with 1 Axes>"
      ]
     },
     "metadata": {
      "needs_background": "light"
     },
     "output_type": "display_data"
    }
   ],
   "source": [
    "plt.hist(born['weight'], bins=range(39, 45), edgecolor='black', align='left')\n",
    "plt.xticks(range(39, 44))\n",
    "plt.yticks(np.arange(0, 24, 2))\n",
    "plt.ylim(0, 25)\n",
    "plt.xlabel('Weight (grams)')\n",
    "plt.ylabel('Number of Chicks')\n",
    "plt.title('Chick Weights at Birth')\n",
    "plt.plot();"
   ]
  },
  {
   "cell_type": "code",
   "execution_count": 10,
   "id": "914d0ecc",
   "metadata": {},
   "outputs": [
    {
     "data": {
      "text/html": [
       "<div>\n",
       "<style scoped>\n",
       "    .dataframe tbody tr th:only-of-type {\n",
       "        vertical-align: middle;\n",
       "    }\n",
       "\n",
       "    .dataframe tbody tr th {\n",
       "        vertical-align: top;\n",
       "    }\n",
       "\n",
       "    .dataframe thead th {\n",
       "        text-align: right;\n",
       "    }\n",
       "</style>\n",
       "<table border=\"1\" class=\"dataframe\">\n",
       "  <thead>\n",
       "    <tr style=\"text-align: right;\">\n",
       "      <th></th>\n",
       "      <th>weight</th>\n",
       "      <th>Time</th>\n",
       "      <th>Chick</th>\n",
       "      <th>Diet</th>\n",
       "    </tr>\n",
       "  </thead>\n",
       "  <tbody>\n",
       "    <tr>\n",
       "      <th>count</th>\n",
       "      <td>45.000000</td>\n",
       "      <td>45.0</td>\n",
       "      <td>45.000000</td>\n",
       "      <td>45.000000</td>\n",
       "    </tr>\n",
       "    <tr>\n",
       "      <th>mean</th>\n",
       "      <td>218.688889</td>\n",
       "      <td>21.0</td>\n",
       "      <td>26.088889</td>\n",
       "      <td>2.266667</td>\n",
       "    </tr>\n",
       "    <tr>\n",
       "      <th>std</th>\n",
       "      <td>71.510273</td>\n",
       "      <td>0.0</td>\n",
       "      <td>14.687382</td>\n",
       "      <td>1.156012</td>\n",
       "    </tr>\n",
       "    <tr>\n",
       "      <th>min</th>\n",
       "      <td>74.000000</td>\n",
       "      <td>21.0</td>\n",
       "      <td>1.000000</td>\n",
       "      <td>1.000000</td>\n",
       "    </tr>\n",
       "    <tr>\n",
       "      <th>25%</th>\n",
       "      <td>167.000000</td>\n",
       "      <td>21.0</td>\n",
       "      <td>13.000000</td>\n",
       "      <td>1.000000</td>\n",
       "    </tr>\n",
       "    <tr>\n",
       "      <th>50%</th>\n",
       "      <td>205.000000</td>\n",
       "      <td>21.0</td>\n",
       "      <td>27.000000</td>\n",
       "      <td>2.000000</td>\n",
       "    </tr>\n",
       "    <tr>\n",
       "      <th>75%</th>\n",
       "      <td>266.000000</td>\n",
       "      <td>21.0</td>\n",
       "      <td>38.000000</td>\n",
       "      <td>3.000000</td>\n",
       "    </tr>\n",
       "    <tr>\n",
       "      <th>max</th>\n",
       "      <td>373.000000</td>\n",
       "      <td>21.0</td>\n",
       "      <td>50.000000</td>\n",
       "      <td>4.000000</td>\n",
       "    </tr>\n",
       "  </tbody>\n",
       "</table>\n",
       "</div>"
      ],
      "text/plain": [
       "           weight  Time      Chick       Diet\n",
       "count   45.000000  45.0  45.000000  45.000000\n",
       "mean   218.688889  21.0  26.088889   2.266667\n",
       "std     71.510273   0.0  14.687382   1.156012\n",
       "min     74.000000  21.0   1.000000   1.000000\n",
       "25%    167.000000  21.0  13.000000   1.000000\n",
       "50%    205.000000  21.0  27.000000   2.000000\n",
       "75%    266.000000  21.0  38.000000   3.000000\n",
       "max    373.000000  21.0  50.000000   4.000000"
      ]
     },
     "execution_count": 10,
     "metadata": {},
     "output_type": "execute_result"
    }
   ],
   "source": [
    "# final weight distribution (Time = 21)\n",
    "grown = df[df['Time'] == 21]\n",
    "grown.describe()"
   ]
  },
  {
   "cell_type": "code",
   "execution_count": 11,
   "id": "43aa34da",
   "metadata": {},
   "outputs": [
    {
     "data": {
      "image/png": "[encoded data removed]",
      "text/plain": [
       "<Figure size 432x288 with 1 Axes>"
      ]
     },
     "metadata": {
      "needs_background": "light"
     },
     "output_type": "display_data"
    }
   ],
   "source": [
    "plt.hist(grown['weight'], bins=range(25, 425, 25), edgecolor='black')\n",
    "plt.xticks(range(50, 425, 50))\n",
    "plt.yticks(np.arange(0, 12, 2))\n",
    "plt.ylim(0, 12)\n",
    "plt.xlabel('Weight (grams)')\n",
    "plt.ylabel('Number of Chicks')\n",
    "plt.title('Chick Weights after 21 Days')\n",
    "plt.plot();"
   ]
  },
  {
   "cell_type": "code",
   "execution_count": 12,
   "id": "d25f9b4f",
   "metadata": {},
   "outputs": [
    {
     "name": "stdout",
     "output_type": "stream",
     "text": [
      "[ 8 15 16 18 44]\n"
     ]
    }
   ],
   "source": [
    "# There are 5 chicks missing from the final weigh-in meaning they don't have all 12 weigh ins\n",
    "chick_df = df.groupby('Chick')\n",
    "complete = pd.DataFrame(np.array(chick_df.describe()['Time']['count'] == 12))\n",
    "missing = np.array(complete[complete[0] == False].index) + 1\n",
    "print(missing)"
   ]
  },
  {
   "cell_type": "code",
   "execution_count": 13,
   "id": "b10c2992",
   "metadata": {},
   "outputs": [
    {
     "data": {
      "image/png": "[encoded data removed]",
      "text/plain": [
       "<Figure size 432x288 with 1 Axes>"
      ]
     },
     "metadata": {
      "needs_background": "light"
     },
     "output_type": "display_data"
    }
   ],
   "source": [
    "# determine when weight stopped being measured for each of the missing chicks\n",
    "missing_df = df[df['Chick'].isin(missing)]\n",
    "\n",
    "sns.scatterplot(x='weight', y='Time', data=missing_df, hue='Chick', style='Diet', palette='colorblind')\n",
    "plt.yticks(range(0, 21, 2))\n",
    "plt.xticks(range(0, 170, 20))\n",
    "plt.title('Weight Prior to Death');"
   ]
  },
  {
   "cell_type": "markdown",
   "id": "0a7cda73",
   "metadata": {},
   "source": [
    "It will be assumed that the chicks died, so they should not be used in the main analysis.  However, it makes sense to look at the diets that the dead chicks were eating to see if there is any relationship."
   ]
  },
  {
   "cell_type": "code",
   "execution_count": 14,
   "id": "6899a8f8",
   "metadata": {},
   "outputs": [
    {
     "data": {
      "text/html": [
       "<div>\n",
       "<style scoped>\n",
       "    .dataframe tbody tr th:only-of-type {\n",
       "        vertical-align: middle;\n",
       "    }\n",
       "\n",
       "    .dataframe tbody tr th {\n",
       "        vertical-align: top;\n",
       "    }\n",
       "\n",
       "    .dataframe thead th {\n",
       "        text-align: right;\n",
       "    }\n",
       "</style>\n",
       "<table border=\"1\" class=\"dataframe\">\n",
       "  <thead>\n",
       "    <tr style=\"text-align: right;\">\n",
       "      <th></th>\n",
       "      <th>weight</th>\n",
       "      <th>Time</th>\n",
       "      <th>Chick</th>\n",
       "      <th>Diet</th>\n",
       "    </tr>\n",
       "  </thead>\n",
       "  <tbody>\n",
       "    <tr>\n",
       "      <th>84</th>\n",
       "      <td>42</td>\n",
       "      <td>0</td>\n",
       "      <td>8</td>\n",
       "      <td>1</td>\n",
       "    </tr>\n",
       "    <tr>\n",
       "      <th>167</th>\n",
       "      <td>41</td>\n",
       "      <td>0</td>\n",
       "      <td>15</td>\n",
       "      <td>1</td>\n",
       "    </tr>\n",
       "    <tr>\n",
       "      <th>175</th>\n",
       "      <td>41</td>\n",
       "      <td>0</td>\n",
       "      <td>16</td>\n",
       "      <td>1</td>\n",
       "    </tr>\n",
       "    <tr>\n",
       "      <th>194</th>\n",
       "      <td>39</td>\n",
       "      <td>0</td>\n",
       "      <td>18</td>\n",
       "      <td>1</td>\n",
       "    </tr>\n",
       "    <tr>\n",
       "      <th>496</th>\n",
       "      <td>42</td>\n",
       "      <td>0</td>\n",
       "      <td>44</td>\n",
       "      <td>4</td>\n",
       "    </tr>\n",
       "  </tbody>\n",
       "</table>\n",
       "</div>"
      ],
      "text/plain": [
       "     weight  Time  Chick  Diet\n",
       "84       42     0      8     1\n",
       "167      41     0     15     1\n",
       "175      41     0     16     1\n",
       "194      39     0     18     1\n",
       "496      42     0     44     4"
      ]
     },
     "execution_count": 14,
     "metadata": {},
     "output_type": "execute_result"
    }
   ],
   "source": [
    "# create new df for dead chicks\n",
    "missing_df = df[df['Chick'].isin(missing)]\n",
    "missing_df = missing_df[missing_df['Time'] == 0]\n",
    "missing_df"
   ]
  },
  {
   "cell_type": "markdown",
   "id": "42aca285",
   "metadata": {},
   "source": [
    "It appears that of the 5 chicks that presumably died, 4 were on diet 1.  There isn't enough data to draw any conclusions or do any sort of testing, but it is interesting nonetheless.\n",
    "\n",
    "Now let's look at how the chicks on each diet progressed over time."
   ]
  },
  {
   "cell_type": "code",
   "execution_count": 15,
   "id": "356ea054",
   "metadata": {},
   "outputs": [],
   "source": [
    "# Remove dead chicks from the df\n",
    "df = df[~df['Chick'].isin(missing)]"
   ]
  },
  {
   "cell_type": "code",
   "execution_count": 16,
   "id": "de6eb5cd",
   "metadata": {},
   "outputs": [
    {
     "data": {
      "image/png": "[encoded data removed]",
      "text/plain": [
       "<Figure size 402.375x360 with 1 Axes>"
      ]
     },
     "metadata": {
      "needs_background": "light"
     },
     "output_type": "display_data"
    }
   ],
   "source": [
    "# Avg Weight vs Time for Chicks on each of the 4 diets\n",
    "g = sns.lmplot(x='Time', y='weight', data=df, hue='Diet', palette='colorblind')\n",
    "g.set(xlim=(0, 22))\n",
    "plt.xticks([0, 2, 4, 6, 8, 10, 12, 14, 16, 18, 20, 21])\n",
    "g.set(ylim=(0, 400))\n",
    "plt.title('Weight vs Time by Diet');"
   ]
  },
  {
   "cell_type": "code",
   "execution_count": 17,
   "id": "52f0dee7",
   "metadata": {},
   "outputs": [
    {
     "data": {
      "image/png": "[encoded data removed]",
      "text/plain": [
       "<Figure size 1440x360 with 4 Axes>"
      ]
     },
     "metadata": {
      "needs_background": "light"
     },
     "output_type": "display_data"
    }
   ],
   "source": [
    "g = sns.catplot(x='Time', y='weight', data=df, col=\"Diet\", kind='box', palette='colorblind')\n",
    "g.set(ylabel ='weight (grams)')\n",
    "plt.tight_layout()\n",
    "plt.show()"
   ]
  },
  {
   "cell_type": "markdown",
   "id": "9b528aeb",
   "metadata": {},
   "source": [
    "It is clear from both plots that the chicks on diet 3 tended to be larger than the other chicks by the 21st day.  However, diet 4 has a much tighter grouping of weights throughout the measurement period.  Diets 1, 2, and 3 all have quite a bit of variability as the chicks grow older, but diet 4 remains consistent."
   ]
  }
 ],
 "metadata": {
  "kernelspec": {
   "display_name": "Python 3",
   "language": "python",
   "name": "python3"
  },
  "language_info": {
   "codemirror_mode": {
    "name": "ipython",
    "version": 3
   },
   "file_extension": ".py",
   "mimetype": "text/x-python",
   "name": "python",
   "nbconvert_exporter": "python",
   "pygments_lexer": "ipython3",
   "version": "3.8.8"
  }
 },
 "nbformat": 4,
 "nbformat_minor": 5
}
