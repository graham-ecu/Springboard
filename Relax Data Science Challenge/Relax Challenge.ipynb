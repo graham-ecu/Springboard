{
 "cells": [
  {
   "cell_type": "markdown",
   "id": "f1d488cd",
   "metadata": {},
   "source": [
    "# Data Loading"
   ]
  },
  {
   "cell_type": "code",
   "execution_count": 1,
   "id": "b3e44463",
   "metadata": {},
   "outputs": [],
   "source": [
    "import pandas as pd\n",
    "import numpy as np\n",
    "import matplotlib.pyplot as plt"
   ]
  },
  {
   "cell_type": "code",
   "execution_count": 2,
   "id": "ecdc072d",
   "metadata": {},
   "outputs": [
    {
     "data": {
      "text/html": [
       "<div>\n",
       "<style scoped>\n",
       "    .dataframe tbody tr th:only-of-type {\n",
       "        vertical-align: middle;\n",
       "    }\n",
       "\n",
       "    .dataframe tbody tr th {\n",
       "        vertical-align: top;\n",
       "    }\n",
       "\n",
       "    .dataframe thead th {\n",
       "        text-align: right;\n",
       "    }\n",
       "</style>\n",
       "<table border=\"1\" class=\"dataframe\">\n",
       "  <thead>\n",
       "    <tr style=\"text-align: right;\">\n",
       "      <th></th>\n",
       "      <th>object_id</th>\n",
       "      <th>creation_time</th>\n",
       "      <th>name</th>\n",
       "      <th>email</th>\n",
       "      <th>creation_source</th>\n",
       "      <th>last_session_creation_time</th>\n",
       "      <th>opted_in_to_mailing_list</th>\n",
       "      <th>enabled_for_marketing_drip</th>\n",
       "      <th>org_id</th>\n",
       "      <th>invited_by_user_id</th>\n",
       "    </tr>\n",
       "  </thead>\n",
       "  <tbody>\n",
       "    <tr>\n",
       "      <th>0</th>\n",
       "      <td>1</td>\n",
       "      <td>2014-04-22 03:53:30</td>\n",
       "      <td>Clausen August</td>\n",
       "      <td>AugustCClausen@yahoo.com</td>\n",
       "      <td>GUEST_INVITE</td>\n",
       "      <td>1.398139e+09</td>\n",
       "      <td>1</td>\n",
       "      <td>0</td>\n",
       "      <td>11</td>\n",
       "      <td>10803.0</td>\n",
       "    </tr>\n",
       "    <tr>\n",
       "      <th>1</th>\n",
       "      <td>2</td>\n",
       "      <td>2013-11-15 03:45:04</td>\n",
       "      <td>Poole Matthew</td>\n",
       "      <td>MatthewPoole@gustr.com</td>\n",
       "      <td>ORG_INVITE</td>\n",
       "      <td>1.396238e+09</td>\n",
       "      <td>0</td>\n",
       "      <td>0</td>\n",
       "      <td>1</td>\n",
       "      <td>316.0</td>\n",
       "    </tr>\n",
       "    <tr>\n",
       "      <th>2</th>\n",
       "      <td>3</td>\n",
       "      <td>2013-03-19 23:14:52</td>\n",
       "      <td>Bottrill Mitchell</td>\n",
       "      <td>MitchellBottrill@gustr.com</td>\n",
       "      <td>ORG_INVITE</td>\n",
       "      <td>1.363735e+09</td>\n",
       "      <td>0</td>\n",
       "      <td>0</td>\n",
       "      <td>94</td>\n",
       "      <td>1525.0</td>\n",
       "    </tr>\n",
       "    <tr>\n",
       "      <th>3</th>\n",
       "      <td>4</td>\n",
       "      <td>2013-05-21 08:09:28</td>\n",
       "      <td>Clausen Nicklas</td>\n",
       "      <td>NicklasSClausen@yahoo.com</td>\n",
       "      <td>GUEST_INVITE</td>\n",
       "      <td>1.369210e+09</td>\n",
       "      <td>0</td>\n",
       "      <td>0</td>\n",
       "      <td>1</td>\n",
       "      <td>5151.0</td>\n",
       "    </tr>\n",
       "    <tr>\n",
       "      <th>4</th>\n",
       "      <td>5</td>\n",
       "      <td>2013-01-17 10:14:20</td>\n",
       "      <td>Raw Grace</td>\n",
       "      <td>GraceRaw@yahoo.com</td>\n",
       "      <td>GUEST_INVITE</td>\n",
       "      <td>1.358850e+09</td>\n",
       "      <td>0</td>\n",
       "      <td>0</td>\n",
       "      <td>193</td>\n",
       "      <td>5240.0</td>\n",
       "    </tr>\n",
       "  </tbody>\n",
       "</table>\n",
       "</div>"
      ],
      "text/plain": [
       "   object_id        creation_time               name  \\\n",
       "0          1  2014-04-22 03:53:30     Clausen August   \n",
       "1          2  2013-11-15 03:45:04      Poole Matthew   \n",
       "2          3  2013-03-19 23:14:52  Bottrill Mitchell   \n",
       "3          4  2013-05-21 08:09:28    Clausen Nicklas   \n",
       "4          5  2013-01-17 10:14:20          Raw Grace   \n",
       "\n",
       "                        email creation_source  last_session_creation_time  \\\n",
       "0    AugustCClausen@yahoo.com    GUEST_INVITE                1.398139e+09   \n",
       "1      MatthewPoole@gustr.com      ORG_INVITE                1.396238e+09   \n",
       "2  MitchellBottrill@gustr.com      ORG_INVITE                1.363735e+09   \n",
       "3   NicklasSClausen@yahoo.com    GUEST_INVITE                1.369210e+09   \n",
       "4          GraceRaw@yahoo.com    GUEST_INVITE                1.358850e+09   \n",
       "\n",
       "   opted_in_to_mailing_list  enabled_for_marketing_drip  org_id  \\\n",
       "0                         1                           0      11   \n",
       "1                         0                           0       1   \n",
       "2                         0                           0      94   \n",
       "3                         0                           0       1   \n",
       "4                         0                           0     193   \n",
       "\n",
       "   invited_by_user_id  \n",
       "0             10803.0  \n",
       "1               316.0  \n",
       "2              1525.0  \n",
       "3              5151.0  \n",
       "4              5240.0  "
      ]
     },
     "execution_count": 2,
     "metadata": {},
     "output_type": "execute_result"
    }
   ],
   "source": [
    "user_df = pd.read_csv('takehome_users.csv')\n",
    "user_df.head()"
   ]
  },
  {
   "cell_type": "code",
   "execution_count": 3,
   "id": "5eeda62d",
   "metadata": {},
   "outputs": [
    {
     "data": {
      "text/html": [
       "<div>\n",
       "<style scoped>\n",
       "    .dataframe tbody tr th:only-of-type {\n",
       "        vertical-align: middle;\n",
       "    }\n",
       "\n",
       "    .dataframe tbody tr th {\n",
       "        vertical-align: top;\n",
       "    }\n",
       "\n",
       "    .dataframe thead th {\n",
       "        text-align: right;\n",
       "    }\n",
       "</style>\n",
       "<table border=\"1\" class=\"dataframe\">\n",
       "  <thead>\n",
       "    <tr style=\"text-align: right;\">\n",
       "      <th></th>\n",
       "      <th>time_stamp</th>\n",
       "      <th>user_id</th>\n",
       "      <th>visited</th>\n",
       "    </tr>\n",
       "  </thead>\n",
       "  <tbody>\n",
       "    <tr>\n",
       "      <th>0</th>\n",
       "      <td>2014-04-22 03:53:30</td>\n",
       "      <td>1</td>\n",
       "      <td>1</td>\n",
       "    </tr>\n",
       "    <tr>\n",
       "      <th>1</th>\n",
       "      <td>2013-11-15 03:45:04</td>\n",
       "      <td>2</td>\n",
       "      <td>1</td>\n",
       "    </tr>\n",
       "    <tr>\n",
       "      <th>2</th>\n",
       "      <td>2013-11-29 03:45:04</td>\n",
       "      <td>2</td>\n",
       "      <td>1</td>\n",
       "    </tr>\n",
       "    <tr>\n",
       "      <th>3</th>\n",
       "      <td>2013-12-09 03:45:04</td>\n",
       "      <td>2</td>\n",
       "      <td>1</td>\n",
       "    </tr>\n",
       "    <tr>\n",
       "      <th>4</th>\n",
       "      <td>2013-12-25 03:45:04</td>\n",
       "      <td>2</td>\n",
       "      <td>1</td>\n",
       "    </tr>\n",
       "  </tbody>\n",
       "</table>\n",
       "</div>"
      ],
      "text/plain": [
       "            time_stamp  user_id  visited\n",
       "0  2014-04-22 03:53:30        1        1\n",
       "1  2013-11-15 03:45:04        2        1\n",
       "2  2013-11-29 03:45:04        2        1\n",
       "3  2013-12-09 03:45:04        2        1\n",
       "4  2013-12-25 03:45:04        2        1"
      ]
     },
     "execution_count": 3,
     "metadata": {},
     "output_type": "execute_result"
    }
   ],
   "source": [
    "user_eng_df = pd.read_csv('takehome_user_engagement.csv')\n",
    "user_eng_df.head()"
   ]
  },
  {
   "cell_type": "markdown",
   "id": "cbf107be",
   "metadata": {},
   "source": [
    "# Data Cleaning"
   ]
  },
  {
   "cell_type": "code",
   "execution_count": 4,
   "id": "d4ccd72b",
   "metadata": {},
   "outputs": [
    {
     "name": "stdout",
     "output_type": "stream",
     "text": [
      "(12000, 10) (207917, 3)\n"
     ]
    }
   ],
   "source": [
    "print(user_df.shape, user_eng_df.shape)"
   ]
  },
  {
   "cell_type": "code",
   "execution_count": 5,
   "id": "cd89e9e1",
   "metadata": {},
   "outputs": [
    {
     "data": {
      "text/plain": [
       "object_id                       int64\n",
       "creation_time                  object\n",
       "name                           object\n",
       "email                          object\n",
       "creation_source                object\n",
       "last_session_creation_time    float64\n",
       "opted_in_to_mailing_list        int64\n",
       "enabled_for_marketing_drip      int64\n",
       "org_id                          int64\n",
       "invited_by_user_id            float64\n",
       "dtype: object"
      ]
     },
     "execution_count": 5,
     "metadata": {},
     "output_type": "execute_result"
    }
   ],
   "source": [
    "# Check dtypes\n",
    "user_df.dtypes"
   ]
  },
  {
   "cell_type": "code",
   "execution_count": 6,
   "id": "90e34c06",
   "metadata": {},
   "outputs": [
    {
     "data": {
      "text/plain": [
       "object_id                              int64\n",
       "creation_time                 datetime64[ns]\n",
       "name                                  object\n",
       "email                                 object\n",
       "creation_source                       object\n",
       "last_session_creation_time    datetime64[ns]\n",
       "opted_in_to_mailing_list                bool\n",
       "enabled_for_marketing_drip              bool\n",
       "org_id                                 int64\n",
       "invited_by_user_id                   float64\n",
       "dtype: object"
      ]
     },
     "execution_count": 6,
     "metadata": {},
     "output_type": "execute_result"
    }
   ],
   "source": [
    "# Convert creation_time column from object to datetime with its current format (yyyy-mm-dd hh:mm:ss)\n",
    "user_df['creation_time'] = pd.to_datetime(user_df['creation_time'])\n",
    "\n",
    "# Convert last_session_creation_time column from unix timestamp to yyy-mm-dd hh:mm:ss\n",
    "user_df['last_session_creation_time'] =  pd.to_datetime(user_df['last_session_creation_time'], unit='s')\n",
    "\n",
    "# Convert opted_in_to_mailing_list and enabled_for_marketing_drip to boolean type\n",
    "user_df['opted_in_to_mailing_list'] = user_df['opted_in_to_mailing_list'].astype('bool')\n",
    "user_df['enabled_for_marketing_drip'] = user_df['enabled_for_marketing_drip'].astype('bool')\n",
    "\n",
    "# Check dtypes\n",
    "user_df.dtypes"
   ]
  },
  {
   "cell_type": "code",
   "execution_count": 7,
   "id": "e52abbfe",
   "metadata": {},
   "outputs": [
    {
     "data": {
      "text/plain": [
       "object_id                        0\n",
       "creation_time                    0\n",
       "name                             0\n",
       "email                            0\n",
       "creation_source                  0\n",
       "last_session_creation_time    3177\n",
       "opted_in_to_mailing_list         0\n",
       "enabled_for_marketing_drip       0\n",
       "org_id                           0\n",
       "invited_by_user_id            5583\n",
       "dtype: int64"
      ]
     },
     "execution_count": 7,
     "metadata": {},
     "output_type": "execute_result"
    }
   ],
   "source": [
    "# Check for missing data\n",
    "user_df.isna().sum()"
   ]
  },
  {
   "cell_type": "markdown",
   "id": "ec5304c0",
   "metadata": {},
   "source": [
    "It appears that 3177 users have not logged in since creating their account. There are also 5583 users that are missing the invited_by_user_id data, which suggests they were not invited by another user."
   ]
  },
  {
   "cell_type": "code",
   "execution_count": 8,
   "id": "aa8305d3",
   "metadata": {},
   "outputs": [
    {
     "data": {
      "text/plain": [
       "object_id                        0\n",
       "creation_time                    0\n",
       "name                             0\n",
       "email                            0\n",
       "creation_source                  0\n",
       "last_session_creation_time       0\n",
       "opted_in_to_mailing_list         0\n",
       "enabled_for_marketing_drip       0\n",
       "org_id                           0\n",
       "invited_by_user_id            5583\n",
       "dtype: int64"
      ]
     },
     "execution_count": 8,
     "metadata": {},
     "output_type": "execute_result"
    }
   ],
   "source": [
    "# replace missing last_session_creation_time with creation_time\n",
    "user_df['last_session_creation_time'].fillna(user_df['creation_time'], inplace=True)\n",
    "user_df.isna().sum()"
   ]
  },
  {
   "cell_type": "code",
   "execution_count": 9,
   "id": "13c340e3",
   "metadata": {},
   "outputs": [
    {
     "data": {
      "text/plain": [
       "object_id                     0\n",
       "creation_time                 0\n",
       "name                          0\n",
       "email                         0\n",
       "creation_source               0\n",
       "last_session_creation_time    0\n",
       "opted_in_to_mailing_list      0\n",
       "enabled_for_marketing_drip    0\n",
       "org_id                        0\n",
       "invited_by_user_id            0\n",
       "dtype: int64"
      ]
     },
     "execution_count": 9,
     "metadata": {},
     "output_type": "execute_result"
    }
   ],
   "source": [
    "# replace missing invited_by_user_id with 0 (there is nobody with user_id = 0)\n",
    "user_df['invited_by_user_id'].fillna(0, inplace=True)\n",
    "user_df.isna().sum()"
   ]
  },
  {
   "cell_type": "markdown",
   "id": "db468d6e",
   "metadata": {},
   "source": [
    "The data is formatted correctly and there are no more missing values. Now the quality of the data needs to be investigated."
   ]
  },
  {
   "cell_type": "code",
   "execution_count": 10,
   "id": "5b5b8129",
   "metadata": {},
   "outputs": [
    {
     "name": "stdout",
     "output_type": "stream",
     "text": [
      "False\n",
      "True\n",
      "True\n"
     ]
    }
   ],
   "source": [
    "# Check for duplicated rows based on columns that should be unique for each user\n",
    "print(user_df['object_id'].duplicated().any())\n",
    "print(user_df['name'].duplicated().any())\n",
    "print(user_df['email'].duplicated().any())"
   ]
  },
  {
   "cell_type": "markdown",
   "id": "30f05899",
   "metadata": {},
   "source": [
    "There are no duplicated user ids but there are duplicated names and emails.  This could mean that some people have the same name, or that some people created multiple accounts."
   ]
  },
  {
   "cell_type": "code",
   "execution_count": 11,
   "id": "3c980efe",
   "metadata": {},
   "outputs": [
    {
     "data": {
      "text/html": [
       "<div>\n",
       "<style scoped>\n",
       "    .dataframe tbody tr th:only-of-type {\n",
       "        vertical-align: middle;\n",
       "    }\n",
       "\n",
       "    .dataframe tbody tr th {\n",
       "        vertical-align: top;\n",
       "    }\n",
       "\n",
       "    .dataframe thead th {\n",
       "        text-align: right;\n",
       "    }\n",
       "</style>\n",
       "<table border=\"1\" class=\"dataframe\">\n",
       "  <thead>\n",
       "    <tr style=\"text-align: right;\">\n",
       "      <th></th>\n",
       "      <th>object_id</th>\n",
       "      <th>creation_time</th>\n",
       "      <th>name</th>\n",
       "      <th>email</th>\n",
       "      <th>creation_source</th>\n",
       "      <th>last_session_creation_time</th>\n",
       "      <th>opted_in_to_mailing_list</th>\n",
       "      <th>enabled_for_marketing_drip</th>\n",
       "      <th>org_id</th>\n",
       "      <th>invited_by_user_id</th>\n",
       "    </tr>\n",
       "  </thead>\n",
       "  <tbody>\n",
       "    <tr>\n",
       "      <th>6696</th>\n",
       "      <td>6697</td>\n",
       "      <td>2013-11-11 04:10:17</td>\n",
       "      <td>Alexander Zoe</td>\n",
       "      <td>ZoeAlexander@yahoo.com</td>\n",
       "      <td>PERSONAL_PROJECTS</td>\n",
       "      <td>2013-11-11 04:10:17</td>\n",
       "      <td>False</td>\n",
       "      <td>False</td>\n",
       "      <td>230</td>\n",
       "      <td>0.0</td>\n",
       "    </tr>\n",
       "    <tr>\n",
       "      <th>5768</th>\n",
       "      <td>5769</td>\n",
       "      <td>2013-07-24 00:55:06</td>\n",
       "      <td>Alexander Zoe</td>\n",
       "      <td>ZoeAlexander@gustr.com</td>\n",
       "      <td>SIGNUP</td>\n",
       "      <td>2013-07-25 00:55:06</td>\n",
       "      <td>False</td>\n",
       "      <td>False</td>\n",
       "      <td>32</td>\n",
       "      <td>0.0</td>\n",
       "    </tr>\n",
       "    <tr>\n",
       "      <th>6420</th>\n",
       "      <td>6421</td>\n",
       "      <td>2013-03-29 22:05:46</td>\n",
       "      <td>Almeida Aline</td>\n",
       "      <td>AlineBarbosaAlmeida@jourrapide.com</td>\n",
       "      <td>PERSONAL_PROJECTS</td>\n",
       "      <td>2013-03-31 22:05:46</td>\n",
       "      <td>False</td>\n",
       "      <td>False</td>\n",
       "      <td>8</td>\n",
       "      <td>0.0</td>\n",
       "    </tr>\n",
       "    <tr>\n",
       "      <th>5105</th>\n",
       "      <td>5106</td>\n",
       "      <td>2012-09-12 21:35:02</td>\n",
       "      <td>Almeida Aline</td>\n",
       "      <td>AlineSousaAlmeida@gmail.com</td>\n",
       "      <td>SIGNUP</td>\n",
       "      <td>2012-09-12 21:35:02</td>\n",
       "      <td>False</td>\n",
       "      <td>False</td>\n",
       "      <td>79</td>\n",
       "      <td>0.0</td>\n",
       "    </tr>\n",
       "    <tr>\n",
       "      <th>9710</th>\n",
       "      <td>9711</td>\n",
       "      <td>2013-06-03 06:28:46</td>\n",
       "      <td>Almeida Andr�</td>\n",
       "      <td>AndreCorreiaAlmeida@hotmail.com</td>\n",
       "      <td>SIGNUP</td>\n",
       "      <td>2013-06-03 06:28:46</td>\n",
       "      <td>False</td>\n",
       "      <td>False</td>\n",
       "      <td>44</td>\n",
       "      <td>0.0</td>\n",
       "    </tr>\n",
       "  </tbody>\n",
       "</table>\n",
       "</div>"
      ],
      "text/plain": [
       "      object_id       creation_time           name  \\\n",
       "6696       6697 2013-11-11 04:10:17  Alexander Zoe   \n",
       "5768       5769 2013-07-24 00:55:06  Alexander Zoe   \n",
       "6420       6421 2013-03-29 22:05:46  Almeida Aline   \n",
       "5105       5106 2012-09-12 21:35:02  Almeida Aline   \n",
       "9710       9711 2013-06-03 06:28:46  Almeida Andr�   \n",
       "\n",
       "                                   email    creation_source  \\\n",
       "6696              ZoeAlexander@yahoo.com  PERSONAL_PROJECTS   \n",
       "5768              ZoeAlexander@gustr.com             SIGNUP   \n",
       "6420  AlineBarbosaAlmeida@jourrapide.com  PERSONAL_PROJECTS   \n",
       "5105         AlineSousaAlmeida@gmail.com             SIGNUP   \n",
       "9710     AndreCorreiaAlmeida@hotmail.com             SIGNUP   \n",
       "\n",
       "     last_session_creation_time  opted_in_to_mailing_list  \\\n",
       "6696        2013-11-11 04:10:17                     False   \n",
       "5768        2013-07-25 00:55:06                     False   \n",
       "6420        2013-03-31 22:05:46                     False   \n",
       "5105        2012-09-12 21:35:02                     False   \n",
       "9710        2013-06-03 06:28:46                     False   \n",
       "\n",
       "      enabled_for_marketing_drip  org_id  invited_by_user_id  \n",
       "6696                       False     230                 0.0  \n",
       "5768                       False      32                 0.0  \n",
       "6420                       False       8                 0.0  \n",
       "5105                       False      79                 0.0  \n",
       "9710                       False      44                 0.0  "
      ]
     },
     "execution_count": 11,
     "metadata": {},
     "output_type": "execute_result"
    }
   ],
   "source": [
    "# Look at users with the same name\n",
    "dups_name = user_df.loc[user_df['name'].duplicated(keep=False), :]\n",
    "dups_name.sort_values('name').head()"
   ]
  },
  {
   "cell_type": "markdown",
   "id": "2d18d1a9",
   "metadata": {},
   "source": [
    "In this case it appears that middle names were not accounted for as can be seen in the 3rd and 4th row of the df above. It might be better to check for duplicate emails since they are more unique."
   ]
  },
  {
   "cell_type": "code",
   "execution_count": 12,
   "id": "f7c56705",
   "metadata": {},
   "outputs": [
    {
     "data": {
      "text/html": [
       "<div>\n",
       "<style scoped>\n",
       "    .dataframe tbody tr th:only-of-type {\n",
       "        vertical-align: middle;\n",
       "    }\n",
       "\n",
       "    .dataframe tbody tr th {\n",
       "        vertical-align: top;\n",
       "    }\n",
       "\n",
       "    .dataframe thead th {\n",
       "        text-align: right;\n",
       "    }\n",
       "</style>\n",
       "<table border=\"1\" class=\"dataframe\">\n",
       "  <thead>\n",
       "    <tr style=\"text-align: right;\">\n",
       "      <th></th>\n",
       "      <th>object_id</th>\n",
       "      <th>creation_time</th>\n",
       "      <th>name</th>\n",
       "      <th>email</th>\n",
       "      <th>creation_source</th>\n",
       "      <th>last_session_creation_time</th>\n",
       "      <th>opted_in_to_mailing_list</th>\n",
       "      <th>enabled_for_marketing_drip</th>\n",
       "      <th>org_id</th>\n",
       "      <th>invited_by_user_id</th>\n",
       "    </tr>\n",
       "  </thead>\n",
       "  <tbody>\n",
       "    <tr>\n",
       "      <th>1603</th>\n",
       "      <td>1604</td>\n",
       "      <td>2014-02-03 04:48:08</td>\n",
       "      <td>Lane Alfie</td>\n",
       "      <td>AlfieLane@yahoo.com</td>\n",
       "      <td>ORG_INVITE</td>\n",
       "      <td>2014-02-06 04:48:08</td>\n",
       "      <td>False</td>\n",
       "      <td>False</td>\n",
       "      <td>0</td>\n",
       "      <td>4128.0</td>\n",
       "    </tr>\n",
       "    <tr>\n",
       "      <th>3822</th>\n",
       "      <td>3823</td>\n",
       "      <td>2012-11-22 05:51:29</td>\n",
       "      <td>Lane Alfie</td>\n",
       "      <td>AlfieLane@yahoo.com</td>\n",
       "      <td>ORG_INVITE</td>\n",
       "      <td>2012-11-23 05:51:29</td>\n",
       "      <td>False</td>\n",
       "      <td>False</td>\n",
       "      <td>169</td>\n",
       "      <td>9498.0</td>\n",
       "    </tr>\n",
       "    <tr>\n",
       "      <th>5280</th>\n",
       "      <td>5281</td>\n",
       "      <td>2012-09-29 11:54:08</td>\n",
       "      <td>Bach Amanda</td>\n",
       "      <td>AmandaABach@gmail.com</td>\n",
       "      <td>SIGNUP_GOOGLE_AUTH</td>\n",
       "      <td>2014-06-04 11:54:08</td>\n",
       "      <td>False</td>\n",
       "      <td>False</td>\n",
       "      <td>146</td>\n",
       "      <td>0.0</td>\n",
       "    </tr>\n",
       "    <tr>\n",
       "      <th>9040</th>\n",
       "      <td>9041</td>\n",
       "      <td>2013-01-03 00:53:47</td>\n",
       "      <td>Bach Amanda</td>\n",
       "      <td>AmandaABach@gmail.com</td>\n",
       "      <td>ORG_INVITE</td>\n",
       "      <td>2013-01-03 00:53:47</td>\n",
       "      <td>False</td>\n",
       "      <td>False</td>\n",
       "      <td>377</td>\n",
       "      <td>6208.0</td>\n",
       "    </tr>\n",
       "    <tr>\n",
       "      <th>375</th>\n",
       "      <td>376</td>\n",
       "      <td>2012-08-10 22:27:08</td>\n",
       "      <td>Tye Jacob</td>\n",
       "      <td>JacobTye@gmail.com</td>\n",
       "      <td>SIGNUP_GOOGLE_AUTH</td>\n",
       "      <td>2012-08-10 22:27:08</td>\n",
       "      <td>True</td>\n",
       "      <td>False</td>\n",
       "      <td>104</td>\n",
       "      <td>0.0</td>\n",
       "    </tr>\n",
       "  </tbody>\n",
       "</table>\n",
       "</div>"
      ],
      "text/plain": [
       "      object_id       creation_time         name                  email  \\\n",
       "1603       1604 2014-02-03 04:48:08   Lane Alfie    AlfieLane@yahoo.com   \n",
       "3822       3823 2012-11-22 05:51:29   Lane Alfie    AlfieLane@yahoo.com   \n",
       "5280       5281 2012-09-29 11:54:08  Bach Amanda  AmandaABach@gmail.com   \n",
       "9040       9041 2013-01-03 00:53:47  Bach Amanda  AmandaABach@gmail.com   \n",
       "375         376 2012-08-10 22:27:08    Tye Jacob     JacobTye@gmail.com   \n",
       "\n",
       "         creation_source last_session_creation_time  opted_in_to_mailing_list  \\\n",
       "1603          ORG_INVITE        2014-02-06 04:48:08                     False   \n",
       "3822          ORG_INVITE        2012-11-23 05:51:29                     False   \n",
       "5280  SIGNUP_GOOGLE_AUTH        2014-06-04 11:54:08                     False   \n",
       "9040          ORG_INVITE        2013-01-03 00:53:47                     False   \n",
       "375   SIGNUP_GOOGLE_AUTH        2012-08-10 22:27:08                      True   \n",
       "\n",
       "      enabled_for_marketing_drip  org_id  invited_by_user_id  \n",
       "1603                       False       0              4128.0  \n",
       "3822                       False     169              9498.0  \n",
       "5280                       False     146                 0.0  \n",
       "9040                       False     377              6208.0  \n",
       "375                        False     104                 0.0  "
      ]
     },
     "execution_count": 12,
     "metadata": {},
     "output_type": "execute_result"
    }
   ],
   "source": [
    "# Find duplicate users based on email\n",
    "dups_email = user_df.loc[user_df['email'].duplicated(keep=False), :]\n",
    "dups_email.sort_values('email').head()"
   ]
  },
  {
   "cell_type": "code",
   "execution_count": 13,
   "id": "a2ebbcf4",
   "metadata": {},
   "outputs": [
    {
     "data": {
      "text/plain": [
       "40"
      ]
     },
     "execution_count": 13,
     "metadata": {},
     "output_type": "execute_result"
    }
   ],
   "source": [
    "dups_email.shape[0]"
   ]
  },
  {
   "cell_type": "markdown",
   "id": "5714257b",
   "metadata": {},
   "source": [
    "There are 40 rows that have the same email address.  Unlike name, the email address a person uses should be unique to that user so it does appear that some people have multiple accounts.  If these users are switching between multiple accounts it will be harder to assess their activity so these users will be dropped."
   ]
  },
  {
   "cell_type": "code",
   "execution_count": 14,
   "id": "de3b9b6e",
   "metadata": {},
   "outputs": [
    {
     "data": {
      "text/plain": [
       "(11960, 10)"
      ]
     },
     "execution_count": 14,
     "metadata": {},
     "output_type": "execute_result"
    }
   ],
   "source": [
    "# Drop users with duplicated emails, this is not a significant loss of data relative to the size of the df\n",
    "user_df = user_df.drop_duplicates(subset='email', keep=False)\n",
    "user_df.shape"
   ]
  },
  {
   "cell_type": "code",
   "execution_count": 15,
   "id": "6efc84b0",
   "metadata": {},
   "outputs": [
    {
     "data": {
      "text/plain": [
       "array(['GUEST_INVITE', 'ORG_INVITE', 'SIGNUP', 'PERSONAL_PROJECTS',\n",
       "       'SIGNUP_GOOGLE_AUTH'], dtype=object)"
      ]
     },
     "execution_count": 15,
     "metadata": {},
     "output_type": "execute_result"
    }
   ],
   "source": [
    "# Check categorical column for typos, repeats, etc.\n",
    "user_df['creation_source'].unique()"
   ]
  },
  {
   "cell_type": "markdown",
   "id": "fc62fae6",
   "metadata": {},
   "source": [
    "Now that the user_df has been cleaned, it is time to check out the user_eng_df."
   ]
  },
  {
   "cell_type": "code",
   "execution_count": 16,
   "id": "b95c3261",
   "metadata": {},
   "outputs": [
    {
     "data": {
      "text/html": [
       "<div>\n",
       "<style scoped>\n",
       "    .dataframe tbody tr th:only-of-type {\n",
       "        vertical-align: middle;\n",
       "    }\n",
       "\n",
       "    .dataframe tbody tr th {\n",
       "        vertical-align: top;\n",
       "    }\n",
       "\n",
       "    .dataframe thead th {\n",
       "        text-align: right;\n",
       "    }\n",
       "</style>\n",
       "<table border=\"1\" class=\"dataframe\">\n",
       "  <thead>\n",
       "    <tr style=\"text-align: right;\">\n",
       "      <th></th>\n",
       "      <th>time_stamp</th>\n",
       "      <th>user_id</th>\n",
       "      <th>visited</th>\n",
       "    </tr>\n",
       "  </thead>\n",
       "  <tbody>\n",
       "    <tr>\n",
       "      <th>0</th>\n",
       "      <td>2014-04-22 03:53:30</td>\n",
       "      <td>1</td>\n",
       "      <td>1</td>\n",
       "    </tr>\n",
       "    <tr>\n",
       "      <th>1</th>\n",
       "      <td>2013-11-15 03:45:04</td>\n",
       "      <td>2</td>\n",
       "      <td>1</td>\n",
       "    </tr>\n",
       "    <tr>\n",
       "      <th>2</th>\n",
       "      <td>2013-11-29 03:45:04</td>\n",
       "      <td>2</td>\n",
       "      <td>1</td>\n",
       "    </tr>\n",
       "    <tr>\n",
       "      <th>3</th>\n",
       "      <td>2013-12-09 03:45:04</td>\n",
       "      <td>2</td>\n",
       "      <td>1</td>\n",
       "    </tr>\n",
       "    <tr>\n",
       "      <th>4</th>\n",
       "      <td>2013-12-25 03:45:04</td>\n",
       "      <td>2</td>\n",
       "      <td>1</td>\n",
       "    </tr>\n",
       "  </tbody>\n",
       "</table>\n",
       "</div>"
      ],
      "text/plain": [
       "            time_stamp  user_id  visited\n",
       "0  2014-04-22 03:53:30        1        1\n",
       "1  2013-11-15 03:45:04        2        1\n",
       "2  2013-11-29 03:45:04        2        1\n",
       "3  2013-12-09 03:45:04        2        1\n",
       "4  2013-12-25 03:45:04        2        1"
      ]
     },
     "execution_count": 16,
     "metadata": {},
     "output_type": "execute_result"
    }
   ],
   "source": [
    "user_eng_df.head()"
   ]
  },
  {
   "cell_type": "code",
   "execution_count": 17,
   "id": "76006a3f",
   "metadata": {},
   "outputs": [
    {
     "data": {
      "text/plain": [
       "time_stamp    object\n",
       "user_id        int64\n",
       "visited        int64\n",
       "dtype: object"
      ]
     },
     "execution_count": 17,
     "metadata": {},
     "output_type": "execute_result"
    }
   ],
   "source": [
    "# Check dtypes\n",
    "user_eng_df.dtypes"
   ]
  },
  {
   "cell_type": "code",
   "execution_count": 18,
   "id": "44c9f1b7",
   "metadata": {},
   "outputs": [
    {
     "data": {
      "text/plain": [
       "time_stamp    datetime64[ns]\n",
       "user_id                int64\n",
       "visited                int64\n",
       "dtype: object"
      ]
     },
     "execution_count": 18,
     "metadata": {},
     "output_type": "execute_result"
    }
   ],
   "source": [
    "# Convert dates to datetime type\n",
    "user_eng_df['time_stamp'] = pd.to_datetime(user_eng_df['time_stamp'])\n",
    "user_eng_df.dtypes"
   ]
  },
  {
   "cell_type": "code",
   "execution_count": 19,
   "id": "937e46c6",
   "metadata": {},
   "outputs": [
    {
     "data": {
      "text/html": [
       "<div>\n",
       "<style scoped>\n",
       "    .dataframe tbody tr th:only-of-type {\n",
       "        vertical-align: middle;\n",
       "    }\n",
       "\n",
       "    .dataframe tbody tr th {\n",
       "        vertical-align: top;\n",
       "    }\n",
       "\n",
       "    .dataframe thead th {\n",
       "        text-align: right;\n",
       "    }\n",
       "</style>\n",
       "<table border=\"1\" class=\"dataframe\">\n",
       "  <thead>\n",
       "    <tr style=\"text-align: right;\">\n",
       "      <th></th>\n",
       "      <th>user_id</th>\n",
       "      <th>visited</th>\n",
       "    </tr>\n",
       "    <tr>\n",
       "      <th>time_stamp</th>\n",
       "      <th></th>\n",
       "      <th></th>\n",
       "    </tr>\n",
       "  </thead>\n",
       "  <tbody>\n",
       "    <tr>\n",
       "      <th>2014-04-22 03:53:30</th>\n",
       "      <td>1</td>\n",
       "      <td>1</td>\n",
       "    </tr>\n",
       "    <tr>\n",
       "      <th>2013-11-15 03:45:04</th>\n",
       "      <td>2</td>\n",
       "      <td>1</td>\n",
       "    </tr>\n",
       "    <tr>\n",
       "      <th>2013-11-29 03:45:04</th>\n",
       "      <td>2</td>\n",
       "      <td>1</td>\n",
       "    </tr>\n",
       "    <tr>\n",
       "      <th>2013-12-09 03:45:04</th>\n",
       "      <td>2</td>\n",
       "      <td>1</td>\n",
       "    </tr>\n",
       "    <tr>\n",
       "      <th>2013-12-25 03:45:04</th>\n",
       "      <td>2</td>\n",
       "      <td>1</td>\n",
       "    </tr>\n",
       "  </tbody>\n",
       "</table>\n",
       "</div>"
      ],
      "text/plain": [
       "                     user_id  visited\n",
       "time_stamp                           \n",
       "2014-04-22 03:53:30        1        1\n",
       "2013-11-15 03:45:04        2        1\n",
       "2013-11-29 03:45:04        2        1\n",
       "2013-12-09 03:45:04        2        1\n",
       "2013-12-25 03:45:04        2        1"
      ]
     },
     "execution_count": 19,
     "metadata": {},
     "output_type": "execute_result"
    }
   ],
   "source": [
    "# Set time_stamp as the index\n",
    "user_eng_df.set_index('time_stamp',inplace=True)\n",
    "user_eng_df.head()"
   ]
  },
  {
   "cell_type": "markdown",
   "id": "43dbbb43",
   "metadata": {},
   "source": [
    "# Identify Adopted Users"
   ]
  },
  {
   "cell_type": "code",
   "execution_count": 20,
   "id": "43dac282",
   "metadata": {},
   "outputs": [],
   "source": [
    "# Define users as adopted or not\n",
    "from datetime import timedelta\n",
    "\n",
    "def user_adopted(user):\n",
    "    \n",
    "    '''For a given user, determine whether or not they have ever logged in 3 times within any 7 day period.\n",
    "    If they have they have, adopted = 1.  If they have not, adopted = 0.'''\n",
    "    \n",
    "    # set default value for adopted\n",
    "    adopted = 0\n",
    "    \n",
    "    # select all rows in user engagement df for a specific user\n",
    "    user_data = user_eng_df[user_eng_df['user_id'] == user]\n",
    "    \n",
    "    # resample daily, .max() just aggregates the data, .dropna() removes any dates where the user did not login\n",
    "    user_data = user_data.resample('D').max().dropna()\n",
    "    \n",
    "    # loop to check all days in user_data up to and including the 3rd to last day\n",
    "    for day in range(len(user_data)-2):\n",
    "        \n",
    "        # For each grouping of login3 - login1 check if the time difference is less than or equal to 7 days\n",
    "        if user_data.index[day+2] - user_data.index[day] <= timedelta(days=7):\n",
    "            \n",
    "            # If yes, the user has satisfied adoption criteria and you don't have to check more of their data\n",
    "            adopted = 1\n",
    "            break\n",
    "            \n",
    "        # If not, the user has not satisifed adoption criteria\n",
    "        else:\n",
    "            adopted = 0\n",
    "            \n",
    "    return adopted"
   ]
  },
  {
   "cell_type": "code",
   "execution_count": 21,
   "id": "872d9b76",
   "metadata": {},
   "outputs": [],
   "source": [
    "# Apply the function to the user_df, adding a column to indicate whether the user is adopted or not\n",
    "user_df['adopted_user'] = user_df['object_id'].apply(user_adopted)"
   ]
  },
  {
   "cell_type": "code",
   "execution_count": 22,
   "id": "0476ed95",
   "metadata": {},
   "outputs": [
    {
     "name": "stdout",
     "output_type": "stream",
     "text": [
      "There are 1653 adopted users.\n",
      "13.82% of all users were adopted\n"
     ]
    }
   ],
   "source": [
    "# Print the number of adopted users and the percentage of users who were adopted\n",
    "adopted_num = user_df[user_df['adopted_user'] == 1].shape[0]\n",
    "adopted_percent = (adopted_num / user_df.shape[0]) * 100\n",
    "print('There are ' + str(adopted_num) + ' adopted users.')\n",
    "print(str(round(adopted_percent, 2)) + '% of all users were adopted')"
   ]
  },
  {
   "cell_type": "markdown",
   "id": "575569b4",
   "metadata": {},
   "source": [
    "# Feature Engineering"
   ]
  },
  {
   "cell_type": "code",
   "execution_count": 23,
   "id": "d530e383",
   "metadata": {},
   "outputs": [
    {
     "data": {
      "text/html": [
       "<div>\n",
       "<style scoped>\n",
       "    .dataframe tbody tr th:only-of-type {\n",
       "        vertical-align: middle;\n",
       "    }\n",
       "\n",
       "    .dataframe tbody tr th {\n",
       "        vertical-align: top;\n",
       "    }\n",
       "\n",
       "    .dataframe thead th {\n",
       "        text-align: right;\n",
       "    }\n",
       "</style>\n",
       "<table border=\"1\" class=\"dataframe\">\n",
       "  <thead>\n",
       "    <tr style=\"text-align: right;\">\n",
       "      <th></th>\n",
       "      <th>object_id</th>\n",
       "      <th>creation_time</th>\n",
       "      <th>name</th>\n",
       "      <th>email</th>\n",
       "      <th>creation_source</th>\n",
       "      <th>last_session_creation_time</th>\n",
       "      <th>opted_in_to_mailing_list</th>\n",
       "      <th>enabled_for_marketing_drip</th>\n",
       "      <th>org_id</th>\n",
       "      <th>invited_by_user_id</th>\n",
       "      <th>adopted_user</th>\n",
       "    </tr>\n",
       "  </thead>\n",
       "  <tbody>\n",
       "    <tr>\n",
       "      <th>0</th>\n",
       "      <td>1</td>\n",
       "      <td>2014-04-22 03:53:30</td>\n",
       "      <td>Clausen August</td>\n",
       "      <td>AugustCClausen@yahoo.com</td>\n",
       "      <td>GUEST_INVITE</td>\n",
       "      <td>2014-04-22 03:53:30</td>\n",
       "      <td>True</td>\n",
       "      <td>False</td>\n",
       "      <td>11</td>\n",
       "      <td>10803.0</td>\n",
       "      <td>0</td>\n",
       "    </tr>\n",
       "  </tbody>\n",
       "</table>\n",
       "</div>"
      ],
      "text/plain": [
       "   object_id       creation_time            name                     email  \\\n",
       "0          1 2014-04-22 03:53:30  Clausen August  AugustCClausen@yahoo.com   \n",
       "\n",
       "  creation_source last_session_creation_time  opted_in_to_mailing_list  \\\n",
       "0    GUEST_INVITE        2014-04-22 03:53:30                      True   \n",
       "\n",
       "   enabled_for_marketing_drip  org_id  invited_by_user_id  adopted_user  \n",
       "0                       False      11             10803.0             0  "
      ]
     },
     "execution_count": 23,
     "metadata": {},
     "output_type": "execute_result"
    }
   ],
   "source": [
    "# Examine user_df features\n",
    "user_df.head(1)"
   ]
  },
  {
   "cell_type": "code",
   "execution_count": 24,
   "id": "17330f98",
   "metadata": {},
   "outputs": [],
   "source": [
    "# Create new feature 'time_used' which is the difference between creation_time and last_session_creation_time\n",
    "diff = user_df['last_session_creation_time'] - user_df['creation_time']\n",
    "\n",
    "# diff is a timedelta dtype with units of days, convert to total seconds then mathematically convert back to days\n",
    "# to make the feature numerical dtype\n",
    "days = [x.total_seconds()/60/60/24 for x in diff]\n",
    "user_df['time_used'] = days\n",
    "\n",
    "# drop the two columns used to make the time_used feature\n",
    "user_df.drop(['last_session_creation_time', 'creation_time'], axis=1, inplace=True)"
   ]
  },
  {
   "cell_type": "code",
   "execution_count": 25,
   "id": "02ae124d",
   "metadata": {},
   "outputs": [
    {
     "data": {
      "text/html": [
       "<div>\n",
       "<style scoped>\n",
       "    .dataframe tbody tr th:only-of-type {\n",
       "        vertical-align: middle;\n",
       "    }\n",
       "\n",
       "    .dataframe tbody tr th {\n",
       "        vertical-align: top;\n",
       "    }\n",
       "\n",
       "    .dataframe thead th {\n",
       "        text-align: right;\n",
       "    }\n",
       "</style>\n",
       "<table border=\"1\" class=\"dataframe\">\n",
       "  <thead>\n",
       "    <tr style=\"text-align: right;\">\n",
       "      <th></th>\n",
       "      <th>user_id</th>\n",
       "      <th>visited</th>\n",
       "      <th>cum_count</th>\n",
       "    </tr>\n",
       "    <tr>\n",
       "      <th>time_stamp</th>\n",
       "      <th></th>\n",
       "      <th></th>\n",
       "      <th></th>\n",
       "    </tr>\n",
       "  </thead>\n",
       "  <tbody>\n",
       "    <tr>\n",
       "      <th>2014-04-22 03:53:30</th>\n",
       "      <td>1</td>\n",
       "      <td>1</td>\n",
       "      <td>1</td>\n",
       "    </tr>\n",
       "    <tr>\n",
       "      <th>2013-11-15 03:45:04</th>\n",
       "      <td>2</td>\n",
       "      <td>1</td>\n",
       "      <td>1</td>\n",
       "    </tr>\n",
       "    <tr>\n",
       "      <th>2013-11-29 03:45:04</th>\n",
       "      <td>2</td>\n",
       "      <td>1</td>\n",
       "      <td>2</td>\n",
       "    </tr>\n",
       "    <tr>\n",
       "      <th>2013-12-09 03:45:04</th>\n",
       "      <td>2</td>\n",
       "      <td>1</td>\n",
       "      <td>3</td>\n",
       "    </tr>\n",
       "    <tr>\n",
       "      <th>2013-12-25 03:45:04</th>\n",
       "      <td>2</td>\n",
       "      <td>1</td>\n",
       "      <td>4</td>\n",
       "    </tr>\n",
       "  </tbody>\n",
       "</table>\n",
       "</div>"
      ],
      "text/plain": [
       "                     user_id  visited  cum_count\n",
       "time_stamp                                      \n",
       "2014-04-22 03:53:30        1        1          1\n",
       "2013-11-15 03:45:04        2        1          1\n",
       "2013-11-29 03:45:04        2        1          2\n",
       "2013-12-09 03:45:04        2        1          3\n",
       "2013-12-25 03:45:04        2        1          4"
      ]
     },
     "execution_count": 25,
     "metadata": {},
     "output_type": "execute_result"
    }
   ],
   "source": [
    "# Create new column 'cum_count' which counts the total number of logins for each user_id\n",
    "user_eng_df['cum_count'] = 1 + user_eng_df.groupby(['user_id']).cumcount()\n",
    "user_eng_df.head()"
   ]
  },
  {
   "cell_type": "code",
   "execution_count": 26,
   "id": "2dd6fb08",
   "metadata": {},
   "outputs": [],
   "source": [
    "def total_logins(user):\n",
    "    \n",
    "    '''For a given user, determine the total number of times they have logged in.  If the user is not\n",
    "    in the user engagement dataframe, they will get a value of 0.'''\n",
    "    \n",
    "    # select all rows in user engagement df for a specific user\n",
    "    user_data = user_eng_df[user_eng_df['user_id'] == user]\n",
    "    \n",
    "    # set default value to 0\n",
    "    total_logins = 0\n",
    "    \n",
    "    # If there is data for the user, return max of cum_count, which is the total number of logins for that user\n",
    "    if user_data['cum_count'].max() > 0:\n",
    "        total_logins = user_data['cum_count'].max()\n",
    "            \n",
    "    return total_logins"
   ]
  },
  {
   "cell_type": "code",
   "execution_count": 27,
   "id": "4ce98ba0",
   "metadata": {},
   "outputs": [
    {
     "data": {
      "text/html": [
       "<div>\n",
       "<style scoped>\n",
       "    .dataframe tbody tr th:only-of-type {\n",
       "        vertical-align: middle;\n",
       "    }\n",
       "\n",
       "    .dataframe tbody tr th {\n",
       "        vertical-align: top;\n",
       "    }\n",
       "\n",
       "    .dataframe thead th {\n",
       "        text-align: right;\n",
       "    }\n",
       "</style>\n",
       "<table border=\"1\" class=\"dataframe\">\n",
       "  <thead>\n",
       "    <tr style=\"text-align: right;\">\n",
       "      <th></th>\n",
       "      <th>object_id</th>\n",
       "      <th>name</th>\n",
       "      <th>email</th>\n",
       "      <th>creation_source</th>\n",
       "      <th>opted_in_to_mailing_list</th>\n",
       "      <th>enabled_for_marketing_drip</th>\n",
       "      <th>org_id</th>\n",
       "      <th>invited_by_user_id</th>\n",
       "      <th>adopted_user</th>\n",
       "      <th>time_used</th>\n",
       "      <th>total_logins</th>\n",
       "    </tr>\n",
       "  </thead>\n",
       "  <tbody>\n",
       "    <tr>\n",
       "      <th>0</th>\n",
       "      <td>1</td>\n",
       "      <td>Clausen August</td>\n",
       "      <td>AugustCClausen@yahoo.com</td>\n",
       "      <td>GUEST_INVITE</td>\n",
       "      <td>True</td>\n",
       "      <td>False</td>\n",
       "      <td>11</td>\n",
       "      <td>10803.0</td>\n",
       "      <td>0</td>\n",
       "      <td>0.0</td>\n",
       "      <td>1</td>\n",
       "    </tr>\n",
       "    <tr>\n",
       "      <th>1</th>\n",
       "      <td>2</td>\n",
       "      <td>Poole Matthew</td>\n",
       "      <td>MatthewPoole@gustr.com</td>\n",
       "      <td>ORG_INVITE</td>\n",
       "      <td>False</td>\n",
       "      <td>False</td>\n",
       "      <td>1</td>\n",
       "      <td>316.0</td>\n",
       "      <td>1</td>\n",
       "      <td>136.0</td>\n",
       "      <td>14</td>\n",
       "    </tr>\n",
       "    <tr>\n",
       "      <th>2</th>\n",
       "      <td>3</td>\n",
       "      <td>Bottrill Mitchell</td>\n",
       "      <td>MitchellBottrill@gustr.com</td>\n",
       "      <td>ORG_INVITE</td>\n",
       "      <td>False</td>\n",
       "      <td>False</td>\n",
       "      <td>94</td>\n",
       "      <td>1525.0</td>\n",
       "      <td>0</td>\n",
       "      <td>0.0</td>\n",
       "      <td>1</td>\n",
       "    </tr>\n",
       "    <tr>\n",
       "      <th>3</th>\n",
       "      <td>4</td>\n",
       "      <td>Clausen Nicklas</td>\n",
       "      <td>NicklasSClausen@yahoo.com</td>\n",
       "      <td>GUEST_INVITE</td>\n",
       "      <td>False</td>\n",
       "      <td>False</td>\n",
       "      <td>1</td>\n",
       "      <td>5151.0</td>\n",
       "      <td>0</td>\n",
       "      <td>1.0</td>\n",
       "      <td>1</td>\n",
       "    </tr>\n",
       "    <tr>\n",
       "      <th>4</th>\n",
       "      <td>5</td>\n",
       "      <td>Raw Grace</td>\n",
       "      <td>GraceRaw@yahoo.com</td>\n",
       "      <td>GUEST_INVITE</td>\n",
       "      <td>False</td>\n",
       "      <td>False</td>\n",
       "      <td>193</td>\n",
       "      <td>5240.0</td>\n",
       "      <td>0</td>\n",
       "      <td>5.0</td>\n",
       "      <td>1</td>\n",
       "    </tr>\n",
       "  </tbody>\n",
       "</table>\n",
       "</div>"
      ],
      "text/plain": [
       "   object_id               name                       email creation_source  \\\n",
       "0          1     Clausen August    AugustCClausen@yahoo.com    GUEST_INVITE   \n",
       "1          2      Poole Matthew      MatthewPoole@gustr.com      ORG_INVITE   \n",
       "2          3  Bottrill Mitchell  MitchellBottrill@gustr.com      ORG_INVITE   \n",
       "3          4    Clausen Nicklas   NicklasSClausen@yahoo.com    GUEST_INVITE   \n",
       "4          5          Raw Grace          GraceRaw@yahoo.com    GUEST_INVITE   \n",
       "\n",
       "   opted_in_to_mailing_list  enabled_for_marketing_drip  org_id  \\\n",
       "0                      True                       False      11   \n",
       "1                     False                       False       1   \n",
       "2                     False                       False      94   \n",
       "3                     False                       False       1   \n",
       "4                     False                       False     193   \n",
       "\n",
       "   invited_by_user_id  adopted_user  time_used  total_logins  \n",
       "0             10803.0             0        0.0             1  \n",
       "1               316.0             1      136.0            14  \n",
       "2              1525.0             0        0.0             1  \n",
       "3              5151.0             0        1.0             1  \n",
       "4              5240.0             0        5.0             1  "
      ]
     },
     "execution_count": 27,
     "metadata": {},
     "output_type": "execute_result"
    }
   ],
   "source": [
    "# Apply the function to the user_df, adding a column 'total_logins'\n",
    "user_df['total_logins'] = user_df['object_id'].apply(total_logins)\n",
    "user_df.head()"
   ]
  },
  {
   "cell_type": "code",
   "execution_count": 28,
   "id": "91a0f74b",
   "metadata": {},
   "outputs": [],
   "source": [
    "# Create categorical feature out of email addresses to show which email service the user has\n",
    "user_df[['email_name', 'email']] = user_df['email'].str.split('@', expand=True)\n",
    "user_df.drop('email_name', axis=1, inplace=True)"
   ]
  },
  {
   "cell_type": "code",
   "execution_count": 29,
   "id": "1620593c",
   "metadata": {},
   "outputs": [
    {
     "data": {
      "text/plain": [
       "gmail.com         3538\n",
       "yahoo.com         2439\n",
       "jourrapide.com    1255\n",
       "cuvox.de          1202\n",
       "gustr.com         1175\n",
       "hotmail.com       1165\n",
       "mumdc.com            2\n",
       "qgjbc.com            2\n",
       "oqpze.com            2\n",
       "dqwln.com            2\n",
       "Name: email, dtype: int64"
      ]
     },
     "execution_count": 29,
     "metadata": {},
     "output_type": "execute_result"
    }
   ],
   "source": [
    "# See what the popular email services are\n",
    "user_df['email'].value_counts().head(10)"
   ]
  },
  {
   "cell_type": "code",
   "execution_count": 30,
   "id": "ec4d4481",
   "metadata": {},
   "outputs": [
    {
     "data": {
      "text/plain": [
       "gmail.com         3538\n",
       "yahoo.com         2439\n",
       "jourrapide.com    1255\n",
       "cuvox.de          1202\n",
       "Other             1186\n",
       "gustr.com         1175\n",
       "hotmail.com       1165\n",
       "Name: email, dtype: int64"
      ]
     },
     "execution_count": 30,
     "metadata": {},
     "output_type": "execute_result"
    }
   ],
   "source": [
    "# Replace non-major email services with \"Other\"\n",
    "major_email = ['gmail.com', 'yahoo.com', 'jourrapide.com', 'cuvox.de', 'gustr.com', 'hotmail.com']\n",
    "user_df.loc[~user_df['email'].isin(major_email), 'email'] = 'Other'\n",
    "user_df['email'].value_counts().head(7)"
   ]
  },
  {
   "cell_type": "code",
   "execution_count": 31,
   "id": "0901ed2d",
   "metadata": {},
   "outputs": [],
   "source": [
    "# drop name and object_id columns since a person's name or user id number should have no effect on being an adopted user\n",
    "user_df.drop('name', axis=1, inplace=True)\n",
    "user_df.drop('object_id', axis=1, inplace=True)"
   ]
  },
  {
   "cell_type": "code",
   "execution_count": 32,
   "id": "33fd9756",
   "metadata": {},
   "outputs": [
    {
     "data": {
      "text/html": [
       "<div>\n",
       "<style scoped>\n",
       "    .dataframe tbody tr th:only-of-type {\n",
       "        vertical-align: middle;\n",
       "    }\n",
       "\n",
       "    .dataframe tbody tr th {\n",
       "        vertical-align: top;\n",
       "    }\n",
       "\n",
       "    .dataframe thead th {\n",
       "        text-align: right;\n",
       "    }\n",
       "</style>\n",
       "<table border=\"1\" class=\"dataframe\">\n",
       "  <thead>\n",
       "    <tr style=\"text-align: right;\">\n",
       "      <th></th>\n",
       "      <th>opted_in_to_mailing_list</th>\n",
       "      <th>enabled_for_marketing_drip</th>\n",
       "      <th>org_id</th>\n",
       "      <th>invited_by_user_id</th>\n",
       "      <th>adopted_user</th>\n",
       "      <th>time_used</th>\n",
       "      <th>total_logins</th>\n",
       "      <th>email_Other</th>\n",
       "      <th>email_cuvox.de</th>\n",
       "      <th>email_gmail.com</th>\n",
       "      <th>email_gustr.com</th>\n",
       "      <th>email_hotmail.com</th>\n",
       "      <th>email_jourrapide.com</th>\n",
       "      <th>email_yahoo.com</th>\n",
       "      <th>creation_source_GUEST_INVITE</th>\n",
       "      <th>creation_source_ORG_INVITE</th>\n",
       "      <th>creation_source_PERSONAL_PROJECTS</th>\n",
       "      <th>creation_source_SIGNUP</th>\n",
       "      <th>creation_source_SIGNUP_GOOGLE_AUTH</th>\n",
       "    </tr>\n",
       "  </thead>\n",
       "  <tbody>\n",
       "    <tr>\n",
       "      <th>0</th>\n",
       "      <td>True</td>\n",
       "      <td>False</td>\n",
       "      <td>11</td>\n",
       "      <td>10803.0</td>\n",
       "      <td>0</td>\n",
       "      <td>0.0</td>\n",
       "      <td>1</td>\n",
       "      <td>0</td>\n",
       "      <td>0</td>\n",
       "      <td>0</td>\n",
       "      <td>0</td>\n",
       "      <td>0</td>\n",
       "      <td>0</td>\n",
       "      <td>1</td>\n",
       "      <td>1</td>\n",
       "      <td>0</td>\n",
       "      <td>0</td>\n",
       "      <td>0</td>\n",
       "      <td>0</td>\n",
       "    </tr>\n",
       "    <tr>\n",
       "      <th>1</th>\n",
       "      <td>False</td>\n",
       "      <td>False</td>\n",
       "      <td>1</td>\n",
       "      <td>316.0</td>\n",
       "      <td>1</td>\n",
       "      <td>136.0</td>\n",
       "      <td>14</td>\n",
       "      <td>0</td>\n",
       "      <td>0</td>\n",
       "      <td>0</td>\n",
       "      <td>1</td>\n",
       "      <td>0</td>\n",
       "      <td>0</td>\n",
       "      <td>0</td>\n",
       "      <td>0</td>\n",
       "      <td>1</td>\n",
       "      <td>0</td>\n",
       "      <td>0</td>\n",
       "      <td>0</td>\n",
       "    </tr>\n",
       "    <tr>\n",
       "      <th>2</th>\n",
       "      <td>False</td>\n",
       "      <td>False</td>\n",
       "      <td>94</td>\n",
       "      <td>1525.0</td>\n",
       "      <td>0</td>\n",
       "      <td>0.0</td>\n",
       "      <td>1</td>\n",
       "      <td>0</td>\n",
       "      <td>0</td>\n",
       "      <td>0</td>\n",
       "      <td>1</td>\n",
       "      <td>0</td>\n",
       "      <td>0</td>\n",
       "      <td>0</td>\n",
       "      <td>0</td>\n",
       "      <td>1</td>\n",
       "      <td>0</td>\n",
       "      <td>0</td>\n",
       "      <td>0</td>\n",
       "    </tr>\n",
       "    <tr>\n",
       "      <th>3</th>\n",
       "      <td>False</td>\n",
       "      <td>False</td>\n",
       "      <td>1</td>\n",
       "      <td>5151.0</td>\n",
       "      <td>0</td>\n",
       "      <td>1.0</td>\n",
       "      <td>1</td>\n",
       "      <td>0</td>\n",
       "      <td>0</td>\n",
       "      <td>0</td>\n",
       "      <td>0</td>\n",
       "      <td>0</td>\n",
       "      <td>0</td>\n",
       "      <td>1</td>\n",
       "      <td>1</td>\n",
       "      <td>0</td>\n",
       "      <td>0</td>\n",
       "      <td>0</td>\n",
       "      <td>0</td>\n",
       "    </tr>\n",
       "    <tr>\n",
       "      <th>4</th>\n",
       "      <td>False</td>\n",
       "      <td>False</td>\n",
       "      <td>193</td>\n",
       "      <td>5240.0</td>\n",
       "      <td>0</td>\n",
       "      <td>5.0</td>\n",
       "      <td>1</td>\n",
       "      <td>0</td>\n",
       "      <td>0</td>\n",
       "      <td>0</td>\n",
       "      <td>0</td>\n",
       "      <td>0</td>\n",
       "      <td>0</td>\n",
       "      <td>1</td>\n",
       "      <td>1</td>\n",
       "      <td>0</td>\n",
       "      <td>0</td>\n",
       "      <td>0</td>\n",
       "      <td>0</td>\n",
       "    </tr>\n",
       "  </tbody>\n",
       "</table>\n",
       "</div>"
      ],
      "text/plain": [
       "   opted_in_to_mailing_list  enabled_for_marketing_drip  org_id  \\\n",
       "0                      True                       False      11   \n",
       "1                     False                       False       1   \n",
       "2                     False                       False      94   \n",
       "3                     False                       False       1   \n",
       "4                     False                       False     193   \n",
       "\n",
       "   invited_by_user_id  adopted_user  time_used  total_logins  email_Other  \\\n",
       "0             10803.0             0        0.0             1            0   \n",
       "1               316.0             1      136.0            14            0   \n",
       "2              1525.0             0        0.0             1            0   \n",
       "3              5151.0             0        1.0             1            0   \n",
       "4              5240.0             0        5.0             1            0   \n",
       "\n",
       "   email_cuvox.de  email_gmail.com  email_gustr.com  email_hotmail.com  \\\n",
       "0               0                0                0                  0   \n",
       "1               0                0                1                  0   \n",
       "2               0                0                1                  0   \n",
       "3               0                0                0                  0   \n",
       "4               0                0                0                  0   \n",
       "\n",
       "   email_jourrapide.com  email_yahoo.com  creation_source_GUEST_INVITE  \\\n",
       "0                     0                1                             1   \n",
       "1                     0                0                             0   \n",
       "2                     0                0                             0   \n",
       "3                     0                1                             1   \n",
       "4                     0                1                             1   \n",
       "\n",
       "   creation_source_ORG_INVITE  creation_source_PERSONAL_PROJECTS  \\\n",
       "0                           0                                  0   \n",
       "1                           1                                  0   \n",
       "2                           1                                  0   \n",
       "3                           0                                  0   \n",
       "4                           0                                  0   \n",
       "\n",
       "   creation_source_SIGNUP  creation_source_SIGNUP_GOOGLE_AUTH  \n",
       "0                       0                                   0  \n",
       "1                       0                                   0  \n",
       "2                       0                                   0  \n",
       "3                       0                                   0  \n",
       "4                       0                                   0  "
      ]
     },
     "execution_count": 32,
     "metadata": {},
     "output_type": "execute_result"
    }
   ],
   "source": [
    "# Create dummy features out of categorical column values\n",
    "user_df = pd.get_dummies(user_df, columns = ['email', 'creation_source'])\n",
    "user_df.head()"
   ]
  },
  {
   "cell_type": "markdown",
   "id": "95015416",
   "metadata": {},
   "source": [
    "# RandomForestClassifier"
   ]
  },
  {
   "cell_type": "code",
   "execution_count": 33,
   "id": "34e536ae",
   "metadata": {},
   "outputs": [
    {
     "name": "stdout",
     "output_type": "stream",
     "text": [
      "(8372, 18) (8372,) (3588, 18) (3588,)\n"
     ]
    }
   ],
   "source": [
    "from sklearn.model_selection import train_test_split\n",
    "from sklearn.ensemble import RandomForestClassifier\n",
    "\n",
    "# Split data into train and test sets\n",
    "X = user_df.loc[:, user_df.columns != 'adopted_user']\n",
    "y = user_df['adopted_user']\n",
    "\n",
    "X_train, X_test, y_train, y_test = train_test_split(X, y, test_size=0.3, random_state=3)\n",
    "print(X_train.shape, y_train.shape, X_test.shape, y_test.shape)"
   ]
  },
  {
   "cell_type": "code",
   "execution_count": 34,
   "id": "7a437c1a",
   "metadata": {},
   "outputs": [],
   "source": [
    "# Initiate and train the model\n",
    "rf = RandomForestClassifier(random_state=3)\n",
    "rf.fit(X_train, y_train)\n",
    "\n",
    "# Predict values\n",
    "y_pred = rf.predict(X_test)"
   ]
  },
  {
   "cell_type": "code",
   "execution_count": 35,
   "id": "a4aa7af1",
   "metadata": {},
   "outputs": [
    {
     "name": "stdout",
     "output_type": "stream",
     "text": [
      "0.9860646599777034\n",
      "              precision    recall  f1-score   support\n",
      "\n",
      "           0       0.99      0.99      0.99      3068\n",
      "           1       0.96      0.94      0.95       520\n",
      "\n",
      "    accuracy                           0.99      3588\n",
      "   macro avg       0.97      0.97      0.97      3588\n",
      "weighted avg       0.99      0.99      0.99      3588\n",
      "\n",
      "[[3047   21]\n",
      " [  29  491]]\n"
     ]
    }
   ],
   "source": [
    "from sklearn.metrics import accuracy_score\n",
    "from sklearn.metrics import classification_report, confusion_matrix\n",
    "\n",
    "# Print accuracy\n",
    "print(accuracy_score(y_test, y_pred))\n",
    "\n",
    "# Print classification report\n",
    "print(classification_report(y_test, y_pred))\n",
    "\n",
    "# Print confusion matrix\n",
    "print(confusion_matrix(y_test, y_pred))"
   ]
  },
  {
   "cell_type": "markdown",
   "id": "49bb1d52",
   "metadata": {},
   "source": [
    "Without modifying anything in the rf model, it already does an excellent job of predicting whether a user will be adopted or not.  If I really needed to get as close to 100% as possible, I could use a grid search to find the best parameters.  In this case though, 98.6% accuracy gives me confidence that this model will give me a good idea of what features are the most important.\n",
    "\n",
    "Now all that's left is finding those features."
   ]
  },
  {
   "cell_type": "code",
   "execution_count": 36,
   "id": "762807bc",
   "metadata": {},
   "outputs": [
    {
     "data": {
      "image/png": "[encoded data removed]",
      "text/plain": [
       "<Figure size 720x576 with 1 Axes>"
      ]
     },
     "metadata": {
      "needs_background": "light"
     },
     "output_type": "display_data"
    }
   ],
   "source": [
    "import seaborn as sns\n",
    "\n",
    "# Create dataframe for feature importance\n",
    "feature_importance = np.array(rf.feature_importances_)\n",
    "feature_names = np.array(X_train.columns)\n",
    "feature_df = pd.DataFrame({'feature_names':feature_names, 'feature_importance':feature_importance})\n",
    "\n",
    "# Sort dataframe by feature importance\n",
    "feature_df.sort_values(by=['feature_importance'], ascending=False, inplace=True)\n",
    "\n",
    "# Plot feature importance\n",
    "plt.figure(figsize=(10,8))\n",
    "sns.barplot(x=feature_df['feature_importance'], y=feature_df['feature_names'])\n",
    "plt.title('RandomForestClassifier Feature Importance')\n",
    "plt.xlabel('Feature Importance')\n",
    "plt.ylabel('Feature Names')\n",
    "plt.show();"
   ]
  },
  {
   "cell_type": "markdown",
   "id": "eca97af0",
   "metadata": {},
   "source": [
    "# Conclusions\n",
    "\n",
    "From the feature importance plot it is clear to see that the time_used and total_logins features are the most important indicators of whether a user will be adopted or not.  The next most important features are org_id and invited_by_user_id, though the difference in importance is huge.  This suggests that being part of an organization or being invited by another user might be something that influences a user being adopted, but in general it comes down to how long the user has been using the service and how many times in total they have used it.\n",
    "\n",
    "Since these features are rather obvious indicators of frequent users, it might be more useful to see how the model performs without these features, and which of the remaining features it relies on to make decisions."
   ]
  },
  {
   "cell_type": "code",
   "execution_count": 37,
   "id": "6e5f4995",
   "metadata": {},
   "outputs": [
    {
     "data": {
      "text/html": [
       "<div>\n",
       "<style scoped>\n",
       "    .dataframe tbody tr th:only-of-type {\n",
       "        vertical-align: middle;\n",
       "    }\n",
       "\n",
       "    .dataframe tbody tr th {\n",
       "        vertical-align: top;\n",
       "    }\n",
       "\n",
       "    .dataframe thead th {\n",
       "        text-align: right;\n",
       "    }\n",
       "</style>\n",
       "<table border=\"1\" class=\"dataframe\">\n",
       "  <thead>\n",
       "    <tr style=\"text-align: right;\">\n",
       "      <th></th>\n",
       "      <th>opted_in_to_mailing_list</th>\n",
       "      <th>enabled_for_marketing_drip</th>\n",
       "      <th>org_id</th>\n",
       "      <th>invited_by_user_id</th>\n",
       "      <th>adopted_user</th>\n",
       "      <th>email_Other</th>\n",
       "      <th>email_cuvox.de</th>\n",
       "      <th>email_gmail.com</th>\n",
       "      <th>email_gustr.com</th>\n",
       "      <th>email_hotmail.com</th>\n",
       "      <th>email_jourrapide.com</th>\n",
       "      <th>email_yahoo.com</th>\n",
       "      <th>creation_source_GUEST_INVITE</th>\n",
       "      <th>creation_source_ORG_INVITE</th>\n",
       "      <th>creation_source_PERSONAL_PROJECTS</th>\n",
       "      <th>creation_source_SIGNUP</th>\n",
       "      <th>creation_source_SIGNUP_GOOGLE_AUTH</th>\n",
       "    </tr>\n",
       "  </thead>\n",
       "  <tbody>\n",
       "    <tr>\n",
       "      <th>0</th>\n",
       "      <td>True</td>\n",
       "      <td>False</td>\n",
       "      <td>11</td>\n",
       "      <td>10803.0</td>\n",
       "      <td>0</td>\n",
       "      <td>0</td>\n",
       "      <td>0</td>\n",
       "      <td>0</td>\n",
       "      <td>0</td>\n",
       "      <td>0</td>\n",
       "      <td>0</td>\n",
       "      <td>1</td>\n",
       "      <td>1</td>\n",
       "      <td>0</td>\n",
       "      <td>0</td>\n",
       "      <td>0</td>\n",
       "      <td>0</td>\n",
       "    </tr>\n",
       "    <tr>\n",
       "      <th>1</th>\n",
       "      <td>False</td>\n",
       "      <td>False</td>\n",
       "      <td>1</td>\n",
       "      <td>316.0</td>\n",
       "      <td>1</td>\n",
       "      <td>0</td>\n",
       "      <td>0</td>\n",
       "      <td>0</td>\n",
       "      <td>1</td>\n",
       "      <td>0</td>\n",
       "      <td>0</td>\n",
       "      <td>0</td>\n",
       "      <td>0</td>\n",
       "      <td>1</td>\n",
       "      <td>0</td>\n",
       "      <td>0</td>\n",
       "      <td>0</td>\n",
       "    </tr>\n",
       "    <tr>\n",
       "      <th>2</th>\n",
       "      <td>False</td>\n",
       "      <td>False</td>\n",
       "      <td>94</td>\n",
       "      <td>1525.0</td>\n",
       "      <td>0</td>\n",
       "      <td>0</td>\n",
       "      <td>0</td>\n",
       "      <td>0</td>\n",
       "      <td>1</td>\n",
       "      <td>0</td>\n",
       "      <td>0</td>\n",
       "      <td>0</td>\n",
       "      <td>0</td>\n",
       "      <td>1</td>\n",
       "      <td>0</td>\n",
       "      <td>0</td>\n",
       "      <td>0</td>\n",
       "    </tr>\n",
       "    <tr>\n",
       "      <th>3</th>\n",
       "      <td>False</td>\n",
       "      <td>False</td>\n",
       "      <td>1</td>\n",
       "      <td>5151.0</td>\n",
       "      <td>0</td>\n",
       "      <td>0</td>\n",
       "      <td>0</td>\n",
       "      <td>0</td>\n",
       "      <td>0</td>\n",
       "      <td>0</td>\n",
       "      <td>0</td>\n",
       "      <td>1</td>\n",
       "      <td>1</td>\n",
       "      <td>0</td>\n",
       "      <td>0</td>\n",
       "      <td>0</td>\n",
       "      <td>0</td>\n",
       "    </tr>\n",
       "    <tr>\n",
       "      <th>4</th>\n",
       "      <td>False</td>\n",
       "      <td>False</td>\n",
       "      <td>193</td>\n",
       "      <td>5240.0</td>\n",
       "      <td>0</td>\n",
       "      <td>0</td>\n",
       "      <td>0</td>\n",
       "      <td>0</td>\n",
       "      <td>0</td>\n",
       "      <td>0</td>\n",
       "      <td>0</td>\n",
       "      <td>1</td>\n",
       "      <td>1</td>\n",
       "      <td>0</td>\n",
       "      <td>0</td>\n",
       "      <td>0</td>\n",
       "      <td>0</td>\n",
       "    </tr>\n",
       "  </tbody>\n",
       "</table>\n",
       "</div>"
      ],
      "text/plain": [
       "   opted_in_to_mailing_list  enabled_for_marketing_drip  org_id  \\\n",
       "0                      True                       False      11   \n",
       "1                     False                       False       1   \n",
       "2                     False                       False      94   \n",
       "3                     False                       False       1   \n",
       "4                     False                       False     193   \n",
       "\n",
       "   invited_by_user_id  adopted_user  email_Other  email_cuvox.de  \\\n",
       "0             10803.0             0            0               0   \n",
       "1               316.0             1            0               0   \n",
       "2              1525.0             0            0               0   \n",
       "3              5151.0             0            0               0   \n",
       "4              5240.0             0            0               0   \n",
       "\n",
       "   email_gmail.com  email_gustr.com  email_hotmail.com  email_jourrapide.com  \\\n",
       "0                0                0                  0                     0   \n",
       "1                0                1                  0                     0   \n",
       "2                0                1                  0                     0   \n",
       "3                0                0                  0                     0   \n",
       "4                0                0                  0                     0   \n",
       "\n",
       "   email_yahoo.com  creation_source_GUEST_INVITE  creation_source_ORG_INVITE  \\\n",
       "0                1                             1                           0   \n",
       "1                0                             0                           1   \n",
       "2                0                             0                           1   \n",
       "3                1                             1                           0   \n",
       "4                1                             1                           0   \n",
       "\n",
       "   creation_source_PERSONAL_PROJECTS  creation_source_SIGNUP  \\\n",
       "0                                  0                       0   \n",
       "1                                  0                       0   \n",
       "2                                  0                       0   \n",
       "3                                  0                       0   \n",
       "4                                  0                       0   \n",
       "\n",
       "   creation_source_SIGNUP_GOOGLE_AUTH  \n",
       "0                                   0  \n",
       "1                                   0  \n",
       "2                                   0  \n",
       "3                                   0  \n",
       "4                                   0  "
      ]
     },
     "execution_count": 37,
     "metadata": {},
     "output_type": "execute_result"
    }
   ],
   "source": [
    "# Create new df without the two main features\n",
    "alt_df = user_df.drop(['time_used', 'total_logins'], axis=1)\n",
    "alt_df.head()"
   ]
  },
  {
   "cell_type": "code",
   "execution_count": 38,
   "id": "739e2bb2",
   "metadata": {},
   "outputs": [
    {
     "name": "stdout",
     "output_type": "stream",
     "text": [
      "(8372, 16) (3588, 16) (8372,) (3588,)\n"
     ]
    }
   ],
   "source": [
    "# Create train/test split\n",
    "X_alt = alt_df.drop('adopted_user', axis=1)\n",
    "y_alt = alt_df['adopted_user']\n",
    "X_train_alt, X_test_alt, y_train_alt, y_test_alt = train_test_split(X_alt, y_alt, test_size=0.3, random_state=16)\n",
    "print(X_train_alt.shape, X_test_alt.shape, y_train_alt.shape, y_test_alt.shape)"
   ]
  },
  {
   "cell_type": "code",
   "execution_count": 39,
   "id": "c41ef758",
   "metadata": {},
   "outputs": [],
   "source": [
    "# Initiate and fit the model\n",
    "rf_alt = RandomForestClassifier(random_state=16)\n",
    "rf_alt.fit(X_train_alt, y_train_alt)\n",
    "\n",
    "# Predict values\n",
    "y_pred_alt = rf_alt.predict(X_test_alt)"
   ]
  },
  {
   "cell_type": "code",
   "execution_count": 40,
   "id": "582a31cb",
   "metadata": {},
   "outputs": [
    {
     "name": "stdout",
     "output_type": "stream",
     "text": [
      "0.8096432552954292\n",
      "              precision    recall  f1-score   support\n",
      "\n",
      "           0       0.86      0.93      0.89      3091\n",
      "           1       0.13      0.07      0.09       497\n",
      "\n",
      "    accuracy                           0.81      3588\n",
      "   macro avg       0.50      0.50      0.49      3588\n",
      "weighted avg       0.76      0.81      0.78      3588\n",
      "\n",
      "[[2871  220]\n",
      " [ 463   34]]\n"
     ]
    }
   ],
   "source": [
    "# Print accuracy\n",
    "print(accuracy_score(y_test_alt, y_pred_alt))\n",
    "\n",
    "# Print classification report\n",
    "print(classification_report(y_test_alt, y_pred_alt))\n",
    "\n",
    "# Print confusion matrix\n",
    "print(confusion_matrix(y_test_alt, y_pred_alt))"
   ]
  },
  {
   "cell_type": "markdown",
   "id": "afb7eaf3",
   "metadata": {},
   "source": [
    "Surprisingly, the model did fairly well without the two most important features.  It still has an accuracy of almost 81%."
   ]
  },
  {
   "cell_type": "code",
   "execution_count": 41,
   "id": "88d95440",
   "metadata": {},
   "outputs": [
    {
     "data": {
      "image/png": "[encoded data removed]",
      "text/plain": [
       "<Figure size 720x576 with 1 Axes>"
      ]
     },
     "metadata": {
      "needs_background": "light"
     },
     "output_type": "display_data"
    }
   ],
   "source": [
    "# Create dataframe for feature importance\n",
    "feature_importance = np.array(rf_alt.feature_importances_)\n",
    "feature_names = np.array(X_train_alt.columns)\n",
    "feature_df = pd.DataFrame({'feature_names':feature_names, 'feature_importance':feature_importance})\n",
    "\n",
    "# Sort dataframe by feature importance\n",
    "feature_df.sort_values(by=['feature_importance'], ascending=False, inplace=True)\n",
    "\n",
    "# Plot feature importance\n",
    "plt.figure(figsize=(10,8))\n",
    "sns.barplot(x=feature_df['feature_importance'], y=feature_df['feature_names'])\n",
    "plt.title('RandomForestClassifier Feature Importance')\n",
    "plt.xlabel('Feature Importance')\n",
    "plt.ylabel('Feature Names')\n",
    "plt.show();"
   ]
  },
  {
   "cell_type": "markdown",
   "id": "a9787799",
   "metadata": {},
   "source": [
    "As might have been expected, org_id and invited_by_user_id were the two most important features.  There is a steep drop off in importance, but the next two are related to the mailing list and the marketing drip.  It appears that Relax Inc might not have the most effective marketing strategy.  They may have more success convincing organizations to require employees or members to use product.  It might also help to have some sort of referral reward for users who invite other users to join."
   ]
  }
 ],
 "metadata": {
  "kernelspec": {
   "display_name": "Python 3",
   "language": "python",
   "name": "python3"
  },
  "language_info": {
   "codemirror_mode": {
    "name": "ipython",
    "version": 3
   },
   "file_extension": ".py",
   "mimetype": "text/x-python",
   "name": "python",
   "nbconvert_exporter": "python",
   "pygments_lexer": "ipython3",
   "version": "3.8.8"
  }
 },
 "nbformat": 4,
 "nbformat_minor": 5
}
