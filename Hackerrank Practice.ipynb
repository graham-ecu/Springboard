{
 "cells": [
  {
   "cell_type": "markdown",
   "id": "d928092e",
   "metadata": {},
   "source": [
    "# Fizz Buzz"
   ]
  },
  {
   "cell_type": "code",
   "execution_count": 16,
   "id": "8b5bf4f7",
   "metadata": {},
   "outputs": [],
   "source": [
    "def FizzBuzz(arr):\n",
    "    # Write your code here\n",
    "    for i in range(len(arr)):\n",
    "        if arr[i]%3 == 0 and arr[i]%5 == 0:\n",
    "            print('FizzBuzz')\n",
    "        elif arr[i]%3 == 0:\n",
    "            print('Fizz')\n",
    "        elif arr[i]%5 == 0:\n",
    "            print('Buzz')\n",
    "        else:\n",
    "            print(arr[i])"
   ]
  },
  {
   "cell_type": "code",
   "execution_count": 17,
   "id": "b6da83bd",
   "metadata": {},
   "outputs": [
    {
     "name": "stdout",
     "output_type": "stream",
     "text": [
      "1\n",
      "2\n",
      "Fizz\n",
      "4\n",
      "Buzz\n",
      "Fizz\n",
      "7\n",
      "8\n",
      "Fizz\n",
      "Buzz\n",
      "11\n",
      "Fizz\n",
      "13\n",
      "14\n",
      "FizzBuzz\n",
      "16\n",
      "17\n",
      "Fizz\n",
      "19\n",
      "Buzz\n"
     ]
    }
   ],
   "source": [
    "arr = [i+1 for i in range(20)]\n",
    "FizzBuzz(arr)"
   ]
  },
  {
   "cell_type": "markdown",
   "id": "a91cf1ac",
   "metadata": {},
   "source": [
    "# Is Number in Array"
   ]
  },
  {
   "cell_type": "code",
   "execution_count": 78,
   "id": "850197b8",
   "metadata": {},
   "outputs": [],
   "source": [
    "def findNumber(arr, k):\n",
    "    # Write your code here\n",
    "    result = \"NO\"  \n",
    "    for n in range(len(arr)):\n",
    "        if arr[n] == k:\n",
    "            result = \"YES\"\n",
    "    return result"
   ]
  },
  {
   "cell_type": "code",
   "execution_count": 80,
   "id": "dba66cfa",
   "metadata": {},
   "outputs": [
    {
     "data": {
      "text/plain": [
       "'NO'"
      ]
     },
     "execution_count": 80,
     "metadata": {},
     "output_type": "execute_result"
    }
   ],
   "source": [
    "arr = [0,1,2,3,4,5]\n",
    "k = 6\n",
    "findNumber(arr, k)"
   ]
  },
  {
   "cell_type": "markdown",
   "id": "3977ef65",
   "metadata": {},
   "source": [
    "# Print Odd Numbers"
   ]
  },
  {
   "cell_type": "code",
   "execution_count": 82,
   "id": "ede8185a",
   "metadata": {},
   "outputs": [],
   "source": [
    "def oddNumbers(l, r):\n",
    "    # Write your code here\n",
    "    odds = []\n",
    "    for i in range(l, r+1):\n",
    "        if i %2 != 0:\n",
    "            odds.append(i)\n",
    "    return odds"
   ]
  },
  {
   "cell_type": "code",
   "execution_count": 85,
   "id": "d374e7c0",
   "metadata": {},
   "outputs": [
    {
     "data": {
      "text/plain": [
       "[3, 5, 7]"
      ]
     },
     "execution_count": 85,
     "metadata": {},
     "output_type": "execute_result"
    }
   ],
   "source": [
    "l = 3\n",
    "r = 8\n",
    "oddNumbers(l, r)"
   ]
  },
  {
   "cell_type": "markdown",
   "id": "bee8645c",
   "metadata": {},
   "source": [
    "# Given an array of integers, calculate the ratios of its elements that are positive, negative, and zero"
   ]
  },
  {
   "cell_type": "code",
   "execution_count": 106,
   "id": "0327faec",
   "metadata": {},
   "outputs": [],
   "source": [
    "def plusMinus(arr):\n",
    "    # Write your code here\n",
    "\n",
    "    pos = 0\n",
    "    neg = 0\n",
    "    zero = 0\n",
    "    \n",
    "    for i in range(len(arr)):\n",
    "        if arr[i] > 0:\n",
    "            pos += 1\n",
    "        elif arr[i] < 0:\n",
    "            neg += 1\n",
    "        else:\n",
    "            zero += 1\n",
    "            \n",
    "    pos_rat = format(pos / len(arr), '5f')\n",
    "    neg_rat = format(neg / len(arr), '5f')\n",
    "    zero_rat = format(zero / len(arr), '5f')\n",
    "    \n",
    "    print(pos_rat)\n",
    "    print(neg_rat)\n",
    "    print(zero_rat)"
   ]
  },
  {
   "cell_type": "code",
   "execution_count": 107,
   "id": "7c8a784f",
   "metadata": {},
   "outputs": [
    {
     "name": "stdout",
     "output_type": "stream",
     "text": [
      "0.500000\n",
      "0.333333\n",
      "0.166667\n"
     ]
    }
   ],
   "source": [
    "arr = [-4, 3, -9, 0, 4, 1]\n",
    "plusMinus(arr)"
   ]
  },
  {
   "cell_type": "markdown",
   "id": "1ec598e9",
   "metadata": {},
   "source": [
    "# Given five positive integers, find the minimum and maximum values that can be calculated by summing exactly four of the five integers"
   ]
  },
  {
   "cell_type": "code",
   "execution_count": 166,
   "id": "2001f1f1",
   "metadata": {},
   "outputs": [],
   "source": [
    "def miniMaxSum(arr):\n",
    "    # Write your code here\n",
    "\n",
    "    arr = sorted(arr)\n",
    "    low = sum(arr[0:4])\n",
    "    high = sum(arr[1:5])\n",
    "    \n",
    "    print(low, high)"
   ]
  },
  {
   "cell_type": "code",
   "execution_count": 168,
   "id": "b02f674e",
   "metadata": {},
   "outputs": [
    {
     "name": "stdout",
     "output_type": "stream",
     "text": [
      "10 14\n"
     ]
    }
   ],
   "source": [
    "arr = [1,2,3,4,5]\n",
    "miniMaxSum(arr)"
   ]
  },
  {
   "cell_type": "markdown",
   "id": "bfb90364",
   "metadata": {},
   "source": [
    "# Given a time in 12 hour AM/PM format, convert it to military (24-hour) time"
   ]
  },
  {
   "cell_type": "code",
   "execution_count": 203,
   "id": "4fdc6639",
   "metadata": {},
   "outputs": [],
   "source": [
    "def timeConversion(s):\n",
    "    # Write your code here    \n",
    "    hours = s[0:2]\n",
    "    mm_ss = s[2:8]\n",
    "    letters = s[8:10]\n",
    "    \n",
    "    if letters == 'PM':\n",
    "        if hours != '12':\n",
    "            nums = int(hours) + 12\n",
    "            hours = str(int(hours) + 12)\n",
    "    \n",
    "    if letters == 'AM':\n",
    "        if hours == '12':\n",
    "            hours = '00'\n",
    "    \n",
    "    time = str(hours + mm_ss)\n",
    "    return time"
   ]
  },
  {
   "cell_type": "code",
   "execution_count": 204,
   "id": "0d93b5a6",
   "metadata": {},
   "outputs": [
    {
     "data": {
      "text/plain": [
       "'00:05:45'"
      ]
     },
     "execution_count": 204,
     "metadata": {},
     "output_type": "execute_result"
    }
   ],
   "source": [
    "s = '12:05:45AM'\n",
    "timeConversion(s)"
   ]
  },
  {
   "cell_type": "markdown",
   "id": "1fe9d0a2",
   "metadata": {},
   "source": [
    "# Find Median of an Array"
   ]
  },
  {
   "cell_type": "code",
   "execution_count": 216,
   "id": "ac052ef0",
   "metadata": {},
   "outputs": [],
   "source": [
    "def findMedian(arr):\n",
    "    # Write your code here\n",
    "\n",
    "    sorted_arr = sorted(arr)\n",
    "    med_index = int((len(arr)-1)/2)\n",
    "    median = sorted_arr[med_index]    \n",
    "    \n",
    "    print(median)"
   ]
  },
  {
   "cell_type": "code",
   "execution_count": 217,
   "id": "05a75a39",
   "metadata": {},
   "outputs": [
    {
     "name": "stdout",
     "output_type": "stream",
     "text": [
      "3\n"
     ]
    }
   ],
   "source": [
    "arr = [0,1,2,4,5,6,3]\n",
    "findMedian(arr)"
   ]
  },
  {
   "cell_type": "markdown",
   "id": "22fddbd4",
   "metadata": {},
   "source": [
    "# Given an array of integers, where all elements but one occur twice, find the unique element"
   ]
  },
  {
   "cell_type": "code",
   "execution_count": 261,
   "id": "a0c56d7f",
   "metadata": {},
   "outputs": [],
   "source": [
    "def lonelyinteger(a):\n",
    "    # Write your code here\n",
    "    ordered = sorted(a)\n",
    "    \n",
    "    if len(a) == 1:\n",
    "        lonely = ordered[0]\n",
    "        \n",
    "    else:\n",
    "        for i in range(1, len(a)-1):\n",
    "            if ordered[i] != ordered[i+1]:\n",
    "                if ordered[i] != ordered[i-1]:\n",
    "                    lonely = ordered[i]\n",
    "    \n",
    "        if ordered[0] != ordered[1]:\n",
    "                lonely = ordered[0]\n",
    "    \n",
    "        elif ordered[-1] != ordered[-2]:\n",
    "                lonely = ordered[-1]\n",
    "            \n",
    "    return lonely    "
   ]
  },
  {
   "cell_type": "code",
   "execution_count": 264,
   "id": "a55afe65",
   "metadata": {},
   "outputs": [
    {
     "data": {
      "text/plain": [
       "2"
      ]
     },
     "execution_count": 264,
     "metadata": {},
     "output_type": "execute_result"
    }
   ],
   "source": [
    "a = [34, 95, 34, 64, 45, 95, 16, 80, 80, 75, 3, 25, 75, 25, 31, 3, 64, 16, 31]\n",
    "b = [1]\n",
    "c = [1,1,2]\n",
    "lonelyinteger(c)"
   ]
  },
  {
   "cell_type": "markdown",
   "id": "69e0a8c2",
   "metadata": {},
   "source": [
    "# Given a square matrix, calculate the absolute difference between the sums of its diagonals"
   ]
  },
  {
   "cell_type": "code",
   "execution_count": 63,
   "id": "0f4b868b",
   "metadata": {},
   "outputs": [],
   "source": [
    "def diagonalDifference(arr):\n",
    "    # Write your code here\n",
    "    n = len(arr)\n",
    "    diag_1 = []\n",
    "    diag_2 = []\n",
    "    \n",
    "    for i in range(n):\n",
    "        diag_1.append(arr[i][i])\n",
    "        diag_2.append(arr[i][n-1-i])     \n",
    "    \n",
    "    sum_1 = sum(diag_1)\n",
    "    sum_2 = sum(diag_2)\n",
    "    \n",
    "    abs_diff = abs(sum_1 - sum_2)\n",
    "    \n",
    "    return abs_diff"
   ]
  },
  {
   "cell_type": "code",
   "execution_count": 64,
   "id": "fbed8d89",
   "metadata": {},
   "outputs": [
    {
     "data": {
      "text/plain": [
       "15"
      ]
     },
     "execution_count": 64,
     "metadata": {},
     "output_type": "execute_result"
    }
   ],
   "source": [
    "arr = [[11,2,4],\n",
    "       [4,5,6],\n",
    "       [10,8,-12]]\n",
    "\n",
    "diagonalDifference(arr)"
   ]
  },
  {
   "cell_type": "markdown",
   "id": "4bb77765",
   "metadata": {},
   "source": [
    "# Given a list of integers, count and return the number of times each value appears as an array of integers"
   ]
  },
  {
   "cell_type": "code",
   "execution_count": 89,
   "id": "3ae76a98",
   "metadata": {},
   "outputs": [],
   "source": [
    "def countingSort(arr):\n",
    "    # Write your code here\n",
    "    \n",
    "    # If I want to count occurences of integers > my max value just change range(...) to range(desired_int+1)\n",
    "    count_list = [0 for i in range(max(arr)+1)]\n",
    "    \n",
    "    for i in range(len(arr)):\n",
    "        count_list[arr[i]] += 1  \n",
    "        \n",
    "    return count_list"
   ]
  },
  {
   "cell_type": "code",
   "execution_count": 92,
   "id": "ce482821",
   "metadata": {},
   "outputs": [
    {
     "data": {
      "text/plain": [
       "[0, 3, 1, 1, 0, 0, 0, 1]"
      ]
     },
     "execution_count": 92,
     "metadata": {},
     "output_type": "execute_result"
    }
   ],
   "source": [
    "arr = [1,1,3,2,1,7]\n",
    "\n",
    "countingSort(arr)"
   ]
  },
  {
   "cell_type": "markdown",
   "id": "d6bf900f",
   "metadata": {},
   "source": [
    "# Flipping the Matrix\n",
    "Flip rows and column in a 2nx2n matrix so the sum of the upper left quadrant (nxn matrix) is the maximum value possible. There is no limit on flips."
   ]
  },
  {
   "cell_type": "code",
   "execution_count": 79,
   "id": "067d563e",
   "metadata": {},
   "outputs": [],
   "source": [
    "def flippingMatrix(matrix):\n",
    "    # Write your code here\n",
    "    \n",
    "    n = int(len(matrix)/2)\n",
    "    \n",
    "    for i in range(n):\n",
    "        for j in range(n):\n",
    "            matrix[i][j] = max([matrix[i][j], matrix[i][2*n-(1+j)], matrix[2*n-(1+i)][j], matrix[2*n-(1+i)][2*n-(1+j)]])\n",
    "\n",
    "    quad = []\n",
    "    \n",
    "    for i in range(n):\n",
    "        for j in range(n):\n",
    "            quad.append(matrix[i][j])\n",
    "    \n",
    "    total = sum(quad)\n",
    "    \n",
    "    return total"
   ]
  },
  {
   "cell_type": "code",
   "execution_count": 80,
   "id": "84327af6",
   "metadata": {},
   "outputs": [
    {
     "data": {
      "text/plain": [
       "414"
      ]
     },
     "execution_count": 80,
     "metadata": {},
     "output_type": "execute_result"
    }
   ],
   "source": [
    "matrix = [[112, 42, 83, 119],\n",
    "          [56, 125, 56, 49],\n",
    "          [15, 78, 101, 43],\n",
    "          [62, 98, 114, 108]]\n",
    "\n",
    "mat2 = [[1,2],\n",
    "       [3,4]]\n",
    "\n",
    "flippingMatrix(matrix)"
   ]
  },
  {
   "cell_type": "markdown",
   "id": "7873b74f",
   "metadata": {},
   "source": [
    "The key here is to realize:  \n",
    "1. There is no limit on flips so order of flipping does not matter  \n",
    "2. The end return is the sum of the upper left quadrant so the entire matrix does not need to be manipulated, only the values in the upper left quadrant.\n",
    "\n",
    "For example in a 4x4 matrix each cell in the 2x2 quad in the top left can take the value of any cell in a mirrored position.\n",
    "\n",
    "The 4x4 matrix used above would create a 2x2 quadrant in the top left that needs to be maximized.  \n",
    "[[A, B],  \n",
    "[C, D]]\n",
    "        \n",
    "    A = max[112, 119, 62, 108] = 119\n",
    "    matrix[0][0] = max([matrix[0][0], matrix[0][3], matrix[3][0], matrix[3][3]])\n",
    "    \n",
    "    B = max[42, 83, 98, 114] = 114\n",
    "    matrix[0][1] = max([matrix[0][1], matrix[0][2], matrix[3][1], matrix[3][2]])\n",
    "    \n",
    "    C = max[56, 49, 15, 43] = 56\n",
    "    matrix[1][0] = max([matrix[1][0], matrix[1][3], matrix[2][0], matrix[2][3]])\n",
    "    \n",
    "    D = max[125, 56, 78, 101] = 125\n",
    "    matrix[1][1] = max([matrix[1][1], matrix[1][2], matrix[2][1], matrix[2][2]])"
   ]
  },
  {
   "cell_type": "markdown",
   "id": "06cfe55e",
   "metadata": {},
   "source": [
    "# ZigZag Sequence\n",
    "Given an odd-numbered array of numbers, reorder them to create a zig zag pattern.\n",
    "Ex: [1,2,3,4,5] could be reordered to [1,4,5,3,2]"
   ]
  },
  {
   "cell_type": "code",
   "execution_count": 103,
   "id": "73a335de",
   "metadata": {},
   "outputs": [],
   "source": [
    "def findZigZagSequence(a, n):\n",
    "    a.sort()\n",
    "    mid = int((n - 1)/2) # changed n+1 to n-1\n",
    "    a[mid], a[n-1] = a[n-1], a[mid]\n",
    "\n",
    "    st = mid + 1\n",
    "    ed = n - 2 # changed n-1 to n-2\n",
    "    while(st <= ed):\n",
    "        a[st], a[ed] = a[ed], a[st]\n",
    "        st = st + 1\n",
    "        ed = ed - 1 # changed ed+1 to ed-1\n",
    "\n",
    "    for i in range (n):\n",
    "        if i == n-1:\n",
    "            print(a[i])\n",
    "        else:\n",
    "            print(a[i], end = ' ')\n",
    "    return"
   ]
  },
  {
   "cell_type": "code",
   "execution_count": 105,
   "id": "53af3df1",
   "metadata": {},
   "outputs": [
    {
     "name": "stdout",
     "output_type": "stream",
     "text": [
      "1 2 3 4 5 11 10 9 8 7 6\n"
     ]
    }
   ],
   "source": [
    "a = [1,2,3,4,5,6,7,8,9,10,11]\n",
    "n = len(a)\n",
    "findZigZagSequence(a, n)"
   ]
  },
  {
   "cell_type": "markdown",
   "id": "1e573071",
   "metadata": {},
   "source": [
    "# Tower Breakers\n",
    "Two players are playing a game of Tower Breakers! Player  always moves first, and both players always play optimally.The rules of the game are as follows:\n",
    "\n",
    "Initially there are n towers.\n",
    "Each tower is of height m.\n",
    "The players move in alternating turns.\n",
    "In each turn, a player can choose a tower of height x and reduce its height to y, where 1 <= y < x and y evenly divides x.\n",
    "If the current player is unable to make a move, they lose the game.\n",
    "Given the values of n and m, determine which player will win. If the first player wins, return 1. Otherwise, return 2.\n",
    "\n",
    "Ex:  \n",
    "n = 2  \n",
    "m = 6"
   ]
  },
  {
   "cell_type": "code",
   "execution_count": 107,
   "id": "560e1738",
   "metadata": {},
   "outputs": [],
   "source": [
    "def towerBreakers(n, m):\n",
    "    # Write your code here\n",
    "    \n",
    "    if m == 1:\n",
    "        winner = 2\n",
    "        \n",
    "    elif n%2 == 1:\n",
    "        winner = 1\n",
    "    else:\n",
    "        winner = 2      \n",
    "\n",
    "    return winner"
   ]
  },
  {
   "cell_type": "code",
   "execution_count": 112,
   "id": "df07e599",
   "metadata": {},
   "outputs": [],
   "source": [
    "n = 2\n",
    "m = 6"
   ]
  },
  {
   "cell_type": "code",
   "execution_count": 113,
   "id": "670dd771",
   "metadata": {},
   "outputs": [
    {
     "data": {
      "text/plain": [
       "2"
      ]
     },
     "execution_count": 113,
     "metadata": {},
     "output_type": "execute_result"
    }
   ],
   "source": [
    "towerBreakers(n, m)"
   ]
  }
 ],
 "metadata": {
  "kernelspec": {
   "display_name": "Python 3",
   "language": "python",
   "name": "python3"
  },
  "language_info": {
   "codemirror_mode": {
    "name": "ipython",
    "version": 3
   },
   "file_extension": ".py",
   "mimetype": "text/x-python",
   "name": "python",
   "nbconvert_exporter": "python",
   "pygments_lexer": "ipython3",
   "version": "3.8.8"
  }
 },
 "nbformat": 4,
 "nbformat_minor": 5
}
